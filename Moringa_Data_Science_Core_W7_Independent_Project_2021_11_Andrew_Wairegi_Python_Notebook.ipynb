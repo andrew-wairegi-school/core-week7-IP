{
  "nbformat": 4,
  "nbformat_minor": 0,
  "metadata": {
    "colab": {
      "name": "Moringa_Data_Science_Core_W7_Independent_Project_2021_11_Andrew_Wairegi_Python_Notebook.ipynb",
      "provenance": [],
      "collapsed_sections": [],
      "toc_visible": true,
      "authorship_tag": "ABX9TyM7ByQ/+z3H9rN5Hi4M4orm",
      "include_colab_link": true
    },
    "kernelspec": {
      "name": "python3",
      "display_name": "Python 3"
    },
    "language_info": {
      "name": "python"
    }
  },
  "cells": [
    {
      "cell_type": "markdown",
      "metadata": {
        "id": "view-in-github",
        "colab_type": "text"
      },
      "source": [
        "<a href=\"https://colab.research.google.com/github/andrew-wairegi-school/core-week7-IP/blob/main/Moringa_Data_Science_Core_W7_Independent_Project_2021_11_Andrew_Wairegi_Python_Notebook.ipynb\" target=\"_parent\"><img src=\"https://colab.research.google.com/assets/colab-badge.svg\" alt=\"Open In Colab\"/></a>"
      ]
    },
    {
      "cell_type": "markdown",
      "metadata": {
        "id": "G4pDSEkjM4uQ"
      },
      "source": [
        "# House pricing - Hass Consulting Company"
      ]
    },
    {
      "cell_type": "markdown",
      "metadata": {
        "id": "2WtwwctvNQV9"
      },
      "source": [
        "**Definitions:**\n",
        "\n",
        "*   Id - ID of row\n",
        "*   Price  - Price of house\n",
        "*   Bedrooms - Number of Bedrooms\n",
        "*   Bathrooms - Number of Bathrooms\n",
        "*   Sqft_living - Square foot area of the living area\n",
        "*   Sqft_lot  - Square foot area of the parking lot\n",
        "*   Floors - Number of Floors in the house\n",
        "*   Waterfront - Whether it has a waterfront\n",
        "*   View - Number of Views\n",
        "*   Grade - Grade of the house\n",
        "*   sqft_above - Square foot of balcony\n",
        "*   sqft_basement - Square foot of basement\n",
        "*   yr_built - Year the house was built\n",
        "*   yr_renovated - Year the house was renovated\n",
        "*   zipcode - Zipcode of the house\n",
        "*   lat - Latitude\n",
        "*   lon - Longitude\n",
        "*   sqft_living15 - Average square foot, of the closest 15 houses living area\n",
        "*   sqft_lot15 - Average square foot, of the closest 15 houses lot area"
      ]
    },
    {
      "cell_type": "markdown",
      "metadata": {
        "id": "riiiuhpU0yeF"
      },
      "source": [
        "## 1. Defining the Question"
      ]
    },
    {
      "cell_type": "markdown",
      "metadata": {
        "id": "OvSYK9KX1vnS"
      },
      "source": [
        "### a) Specifying the question"
      ]
    },
    {
      "cell_type": "markdown",
      "metadata": {
        "id": "VDPU_u25Q9W2"
      },
      "source": [
        "To find the main predictor variables that will determine the price of a house. As well as create a model that can accurately predict the house prices"
      ]
    },
    {
      "cell_type": "markdown",
      "metadata": {
        "id": "gN75d15V3iQu"
      },
      "source": [
        "### b) Defining Metric for success"
      ]
    },
    {
      "cell_type": "markdown",
      "metadata": {
        "id": "PlRa9aLTQ96d"
      },
      "source": [
        "Being able to identify predictor variables that have strong correlations to the house price. As well as be able to create a model that has a high accuracy rate. With the accuracy rate being under $200,000 in terms of a root mean squared error. This will allow us to punish the off values where it is off by a big amount. While being able to predict house prices of future houses."
      ]
    },
    {
      "cell_type": "markdown",
      "metadata": {
        "id": "oqV2V-0L3-RD"
      },
      "source": [
        "### c) Understanding the context"
      ]
    },
    {
      "cell_type": "markdown",
      "metadata": {
        "id": "fKLQ2kbLQ-e1"
      },
      "source": [
        "Hass consulting is a real estate company. That has worked in real estate for over 25 years. They want to be able to create a model that will help them to determine the prices of houses. This will allow them to correctly predict the prices of houses in the future. As opposed to relying on a human real estator, to determine the values for them. They also want to know the main variables. So that they are able to understand it, and know what to focus on when selling houses.\n"
      ]
    },
    {
      "cell_type": "markdown",
      "metadata": {
        "id": "B7GkoOxp4vrQ"
      },
      "source": [
        "### d) Experimental design"
      ]
    },
    {
      "cell_type": "markdown",
      "metadata": {
        "id": "C0d9DlUeQ_CJ"
      },
      "source": [
        "Process:\n",
        "\n",
        "1. Defining the question\n",
        "2. Data loading\n",
        "3. Previewing data\n",
        "4. Cleaning the data\n",
        "5. Exploratory data analysis - EDA\n",
        "6. Implementing the solution\n",
        "7. Challenging the solution\n",
        "8. Conclusion\n",
        "9. Recommendation\n",
        "10. Follow up questions"
      ]
    },
    {
      "cell_type": "markdown",
      "metadata": {
        "id": "JWF5kZZG43eA"
      },
      "source": [
        "### e) Data relevance"
      ]
    },
    {
      "cell_type": "markdown",
      "metadata": {
        "id": "oQ3YpM1QQ_lw"
      },
      "source": [
        "The data is relevant because it was sourced from the government. From their website. This means that it is valid because Hass consulting has gotten it from a trusted source."
      ]
    },
    {
      "cell_type": "markdown",
      "metadata": {
        "id": "CGmGWwhL60m5"
      },
      "source": [
        "## 2. Reading the data"
      ]
    },
    {
      "cell_type": "code",
      "metadata": {
        "id": "X5k62TRMUGD-"
      },
      "source": [
        "# Importing the libraries\n",
        "import numpy as np\n",
        "import pandas as pd\n",
        "import matplotlib.pyplot as plt\n",
        "import seaborn as sns"
      ],
      "execution_count": null,
      "outputs": []
    },
    {
      "cell_type": "code",
      "metadata": {
        "colab": {
          "base_uri": "https://localhost:8080/",
          "height": 226
        },
        "id": "lx2cCDh5URml",
        "outputId": "02c48c3f-fc91-4dfd-8af4-b592e508d233"
      },
      "source": [
        "# Reading the data\n",
        "df = pd.read_csv(\"https://drive.google.com/uc?id=173eyHHdaFiRgRraDpntlXfRTiPZriI3V\")\n",
        "df.head()"
      ],
      "execution_count": null,
      "outputs": [
        {
          "output_type": "execute_result",
          "data": {
            "text/html": [
              "<div>\n",
              "<style scoped>\n",
              "    .dataframe tbody tr th:only-of-type {\n",
              "        vertical-align: middle;\n",
              "    }\n",
              "\n",
              "    .dataframe tbody tr th {\n",
              "        vertical-align: top;\n",
              "    }\n",
              "\n",
              "    .dataframe thead th {\n",
              "        text-align: right;\n",
              "    }\n",
              "</style>\n",
              "<table border=\"1\" class=\"dataframe\">\n",
              "  <thead>\n",
              "    <tr style=\"text-align: right;\">\n",
              "      <th></th>\n",
              "      <th>id</th>\n",
              "      <th>price</th>\n",
              "      <th>bedrooms</th>\n",
              "      <th>bathrooms</th>\n",
              "      <th>sqft_living</th>\n",
              "      <th>sqft_lot</th>\n",
              "      <th>floors</th>\n",
              "      <th>waterfront</th>\n",
              "      <th>view</th>\n",
              "      <th>condition</th>\n",
              "      <th>grade</th>\n",
              "      <th>sqft_above</th>\n",
              "      <th>sqft_basement</th>\n",
              "      <th>yr_built</th>\n",
              "      <th>yr_renovated</th>\n",
              "      <th>zipcode</th>\n",
              "      <th>lat</th>\n",
              "      <th>long</th>\n",
              "      <th>sqft_living15</th>\n",
              "      <th>sqft_lot15</th>\n",
              "    </tr>\n",
              "  </thead>\n",
              "  <tbody>\n",
              "    <tr>\n",
              "      <th>0</th>\n",
              "      <td>7129300520</td>\n",
              "      <td>221900.0</td>\n",
              "      <td>3</td>\n",
              "      <td>1.00</td>\n",
              "      <td>1180</td>\n",
              "      <td>5650</td>\n",
              "      <td>1.0</td>\n",
              "      <td>0</td>\n",
              "      <td>0</td>\n",
              "      <td>3</td>\n",
              "      <td>7</td>\n",
              "      <td>1180</td>\n",
              "      <td>0</td>\n",
              "      <td>1955</td>\n",
              "      <td>0</td>\n",
              "      <td>98178</td>\n",
              "      <td>47.5112</td>\n",
              "      <td>-122.257</td>\n",
              "      <td>1340</td>\n",
              "      <td>5650</td>\n",
              "    </tr>\n",
              "    <tr>\n",
              "      <th>1</th>\n",
              "      <td>6414100192</td>\n",
              "      <td>538000.0</td>\n",
              "      <td>3</td>\n",
              "      <td>2.25</td>\n",
              "      <td>2570</td>\n",
              "      <td>7242</td>\n",
              "      <td>2.0</td>\n",
              "      <td>0</td>\n",
              "      <td>0</td>\n",
              "      <td>3</td>\n",
              "      <td>7</td>\n",
              "      <td>2170</td>\n",
              "      <td>400</td>\n",
              "      <td>1951</td>\n",
              "      <td>1991</td>\n",
              "      <td>98125</td>\n",
              "      <td>47.7210</td>\n",
              "      <td>-122.319</td>\n",
              "      <td>1690</td>\n",
              "      <td>7639</td>\n",
              "    </tr>\n",
              "    <tr>\n",
              "      <th>2</th>\n",
              "      <td>5631500400</td>\n",
              "      <td>180000.0</td>\n",
              "      <td>2</td>\n",
              "      <td>1.00</td>\n",
              "      <td>770</td>\n",
              "      <td>10000</td>\n",
              "      <td>1.0</td>\n",
              "      <td>0</td>\n",
              "      <td>0</td>\n",
              "      <td>3</td>\n",
              "      <td>6</td>\n",
              "      <td>770</td>\n",
              "      <td>0</td>\n",
              "      <td>1933</td>\n",
              "      <td>0</td>\n",
              "      <td>98028</td>\n",
              "      <td>47.7379</td>\n",
              "      <td>-122.233</td>\n",
              "      <td>2720</td>\n",
              "      <td>8062</td>\n",
              "    </tr>\n",
              "    <tr>\n",
              "      <th>3</th>\n",
              "      <td>2487200875</td>\n",
              "      <td>604000.0</td>\n",
              "      <td>4</td>\n",
              "      <td>3.00</td>\n",
              "      <td>1960</td>\n",
              "      <td>5000</td>\n",
              "      <td>1.0</td>\n",
              "      <td>0</td>\n",
              "      <td>0</td>\n",
              "      <td>5</td>\n",
              "      <td>7</td>\n",
              "      <td>1050</td>\n",
              "      <td>910</td>\n",
              "      <td>1965</td>\n",
              "      <td>0</td>\n",
              "      <td>98136</td>\n",
              "      <td>47.5208</td>\n",
              "      <td>-122.393</td>\n",
              "      <td>1360</td>\n",
              "      <td>5000</td>\n",
              "    </tr>\n",
              "    <tr>\n",
              "      <th>4</th>\n",
              "      <td>1954400510</td>\n",
              "      <td>510000.0</td>\n",
              "      <td>3</td>\n",
              "      <td>2.00</td>\n",
              "      <td>1680</td>\n",
              "      <td>8080</td>\n",
              "      <td>1.0</td>\n",
              "      <td>0</td>\n",
              "      <td>0</td>\n",
              "      <td>3</td>\n",
              "      <td>8</td>\n",
              "      <td>1680</td>\n",
              "      <td>0</td>\n",
              "      <td>1987</td>\n",
              "      <td>0</td>\n",
              "      <td>98074</td>\n",
              "      <td>47.6168</td>\n",
              "      <td>-122.045</td>\n",
              "      <td>1800</td>\n",
              "      <td>7503</td>\n",
              "    </tr>\n",
              "  </tbody>\n",
              "</table>\n",
              "</div>"
            ],
            "text/plain": [
              "           id     price  bedrooms  ...     long  sqft_living15  sqft_lot15\n",
              "0  7129300520  221900.0         3  ... -122.257           1340        5650\n",
              "1  6414100192  538000.0         3  ... -122.319           1690        7639\n",
              "2  5631500400  180000.0         2  ... -122.233           2720        8062\n",
              "3  2487200875  604000.0         4  ... -122.393           1360        5000\n",
              "4  1954400510  510000.0         3  ... -122.045           1800        7503\n",
              "\n",
              "[5 rows x 20 columns]"
            ]
          },
          "metadata": {},
          "execution_count": 2
        }
      ]
    },
    {
      "cell_type": "markdown",
      "metadata": {
        "id": "hg3YKhm7bXlJ"
      },
      "source": [
        "## 3. Previewing the data"
      ]
    },
    {
      "cell_type": "code",
      "metadata": {
        "colab": {
          "base_uri": "https://localhost:8080/"
        },
        "id": "dk85gBExU5BY",
        "outputId": "df06d0d7-3bb8-404a-c0ec-3f9197117687"
      },
      "source": [
        "# Number of records\n",
        "df.shape"
      ],
      "execution_count": null,
      "outputs": [
        {
          "output_type": "execute_result",
          "data": {
            "text/plain": [
              "(21613, 20)"
            ]
          },
          "metadata": {},
          "execution_count": 3
        }
      ]
    },
    {
      "cell_type": "code",
      "metadata": {
        "colab": {
          "base_uri": "https://localhost:8080/",
          "height": 226
        },
        "id": "NXSj92WVbhhe",
        "outputId": "61589895-6d2a-4019-ea0f-f1c50e3a9097"
      },
      "source": [
        "# Top of dataset\n",
        "df.head()"
      ],
      "execution_count": null,
      "outputs": [
        {
          "output_type": "execute_result",
          "data": {
            "text/html": [
              "<div>\n",
              "<style scoped>\n",
              "    .dataframe tbody tr th:only-of-type {\n",
              "        vertical-align: middle;\n",
              "    }\n",
              "\n",
              "    .dataframe tbody tr th {\n",
              "        vertical-align: top;\n",
              "    }\n",
              "\n",
              "    .dataframe thead th {\n",
              "        text-align: right;\n",
              "    }\n",
              "</style>\n",
              "<table border=\"1\" class=\"dataframe\">\n",
              "  <thead>\n",
              "    <tr style=\"text-align: right;\">\n",
              "      <th></th>\n",
              "      <th>id</th>\n",
              "      <th>price</th>\n",
              "      <th>bedrooms</th>\n",
              "      <th>bathrooms</th>\n",
              "      <th>sqft_living</th>\n",
              "      <th>sqft_lot</th>\n",
              "      <th>floors</th>\n",
              "      <th>waterfront</th>\n",
              "      <th>view</th>\n",
              "      <th>condition</th>\n",
              "      <th>grade</th>\n",
              "      <th>sqft_above</th>\n",
              "      <th>sqft_basement</th>\n",
              "      <th>yr_built</th>\n",
              "      <th>yr_renovated</th>\n",
              "      <th>zipcode</th>\n",
              "      <th>lat</th>\n",
              "      <th>long</th>\n",
              "      <th>sqft_living15</th>\n",
              "      <th>sqft_lot15</th>\n",
              "    </tr>\n",
              "  </thead>\n",
              "  <tbody>\n",
              "    <tr>\n",
              "      <th>0</th>\n",
              "      <td>7129300520</td>\n",
              "      <td>221900.0</td>\n",
              "      <td>3</td>\n",
              "      <td>1.00</td>\n",
              "      <td>1180</td>\n",
              "      <td>5650</td>\n",
              "      <td>1.0</td>\n",
              "      <td>0</td>\n",
              "      <td>0</td>\n",
              "      <td>3</td>\n",
              "      <td>7</td>\n",
              "      <td>1180</td>\n",
              "      <td>0</td>\n",
              "      <td>1955</td>\n",
              "      <td>0</td>\n",
              "      <td>98178</td>\n",
              "      <td>47.5112</td>\n",
              "      <td>-122.257</td>\n",
              "      <td>1340</td>\n",
              "      <td>5650</td>\n",
              "    </tr>\n",
              "    <tr>\n",
              "      <th>1</th>\n",
              "      <td>6414100192</td>\n",
              "      <td>538000.0</td>\n",
              "      <td>3</td>\n",
              "      <td>2.25</td>\n",
              "      <td>2570</td>\n",
              "      <td>7242</td>\n",
              "      <td>2.0</td>\n",
              "      <td>0</td>\n",
              "      <td>0</td>\n",
              "      <td>3</td>\n",
              "      <td>7</td>\n",
              "      <td>2170</td>\n",
              "      <td>400</td>\n",
              "      <td>1951</td>\n",
              "      <td>1991</td>\n",
              "      <td>98125</td>\n",
              "      <td>47.7210</td>\n",
              "      <td>-122.319</td>\n",
              "      <td>1690</td>\n",
              "      <td>7639</td>\n",
              "    </tr>\n",
              "    <tr>\n",
              "      <th>2</th>\n",
              "      <td>5631500400</td>\n",
              "      <td>180000.0</td>\n",
              "      <td>2</td>\n",
              "      <td>1.00</td>\n",
              "      <td>770</td>\n",
              "      <td>10000</td>\n",
              "      <td>1.0</td>\n",
              "      <td>0</td>\n",
              "      <td>0</td>\n",
              "      <td>3</td>\n",
              "      <td>6</td>\n",
              "      <td>770</td>\n",
              "      <td>0</td>\n",
              "      <td>1933</td>\n",
              "      <td>0</td>\n",
              "      <td>98028</td>\n",
              "      <td>47.7379</td>\n",
              "      <td>-122.233</td>\n",
              "      <td>2720</td>\n",
              "      <td>8062</td>\n",
              "    </tr>\n",
              "    <tr>\n",
              "      <th>3</th>\n",
              "      <td>2487200875</td>\n",
              "      <td>604000.0</td>\n",
              "      <td>4</td>\n",
              "      <td>3.00</td>\n",
              "      <td>1960</td>\n",
              "      <td>5000</td>\n",
              "      <td>1.0</td>\n",
              "      <td>0</td>\n",
              "      <td>0</td>\n",
              "      <td>5</td>\n",
              "      <td>7</td>\n",
              "      <td>1050</td>\n",
              "      <td>910</td>\n",
              "      <td>1965</td>\n",
              "      <td>0</td>\n",
              "      <td>98136</td>\n",
              "      <td>47.5208</td>\n",
              "      <td>-122.393</td>\n",
              "      <td>1360</td>\n",
              "      <td>5000</td>\n",
              "    </tr>\n",
              "    <tr>\n",
              "      <th>4</th>\n",
              "      <td>1954400510</td>\n",
              "      <td>510000.0</td>\n",
              "      <td>3</td>\n",
              "      <td>2.00</td>\n",
              "      <td>1680</td>\n",
              "      <td>8080</td>\n",
              "      <td>1.0</td>\n",
              "      <td>0</td>\n",
              "      <td>0</td>\n",
              "      <td>3</td>\n",
              "      <td>8</td>\n",
              "      <td>1680</td>\n",
              "      <td>0</td>\n",
              "      <td>1987</td>\n",
              "      <td>0</td>\n",
              "      <td>98074</td>\n",
              "      <td>47.6168</td>\n",
              "      <td>-122.045</td>\n",
              "      <td>1800</td>\n",
              "      <td>7503</td>\n",
              "    </tr>\n",
              "  </tbody>\n",
              "</table>\n",
              "</div>"
            ],
            "text/plain": [
              "           id     price  bedrooms  ...     long  sqft_living15  sqft_lot15\n",
              "0  7129300520  221900.0         3  ... -122.257           1340        5650\n",
              "1  6414100192  538000.0         3  ... -122.319           1690        7639\n",
              "2  5631500400  180000.0         2  ... -122.233           2720        8062\n",
              "3  2487200875  604000.0         4  ... -122.393           1360        5000\n",
              "4  1954400510  510000.0         3  ... -122.045           1800        7503\n",
              "\n",
              "[5 rows x 20 columns]"
            ]
          },
          "metadata": {},
          "execution_count": 4
        }
      ]
    },
    {
      "cell_type": "code",
      "metadata": {
        "colab": {
          "base_uri": "https://localhost:8080/",
          "height": 226
        },
        "id": "ZuEzibbSblL1",
        "outputId": "29c75956-0eab-470e-fe09-dcc2acfd3458"
      },
      "source": [
        "# Tail of dataset\n",
        "df.tail()"
      ],
      "execution_count": null,
      "outputs": [
        {
          "output_type": "execute_result",
          "data": {
            "text/html": [
              "<div>\n",
              "<style scoped>\n",
              "    .dataframe tbody tr th:only-of-type {\n",
              "        vertical-align: middle;\n",
              "    }\n",
              "\n",
              "    .dataframe tbody tr th {\n",
              "        vertical-align: top;\n",
              "    }\n",
              "\n",
              "    .dataframe thead th {\n",
              "        text-align: right;\n",
              "    }\n",
              "</style>\n",
              "<table border=\"1\" class=\"dataframe\">\n",
              "  <thead>\n",
              "    <tr style=\"text-align: right;\">\n",
              "      <th></th>\n",
              "      <th>id</th>\n",
              "      <th>price</th>\n",
              "      <th>bedrooms</th>\n",
              "      <th>bathrooms</th>\n",
              "      <th>sqft_living</th>\n",
              "      <th>sqft_lot</th>\n",
              "      <th>floors</th>\n",
              "      <th>waterfront</th>\n",
              "      <th>view</th>\n",
              "      <th>condition</th>\n",
              "      <th>grade</th>\n",
              "      <th>sqft_above</th>\n",
              "      <th>sqft_basement</th>\n",
              "      <th>yr_built</th>\n",
              "      <th>yr_renovated</th>\n",
              "      <th>zipcode</th>\n",
              "      <th>lat</th>\n",
              "      <th>long</th>\n",
              "      <th>sqft_living15</th>\n",
              "      <th>sqft_lot15</th>\n",
              "    </tr>\n",
              "  </thead>\n",
              "  <tbody>\n",
              "    <tr>\n",
              "      <th>21608</th>\n",
              "      <td>263000018</td>\n",
              "      <td>360000.0</td>\n",
              "      <td>3</td>\n",
              "      <td>2.50</td>\n",
              "      <td>1530</td>\n",
              "      <td>1131</td>\n",
              "      <td>3.0</td>\n",
              "      <td>0</td>\n",
              "      <td>0</td>\n",
              "      <td>3</td>\n",
              "      <td>8</td>\n",
              "      <td>1530</td>\n",
              "      <td>0</td>\n",
              "      <td>2009</td>\n",
              "      <td>0</td>\n",
              "      <td>98103</td>\n",
              "      <td>47.6993</td>\n",
              "      <td>-122.346</td>\n",
              "      <td>1530</td>\n",
              "      <td>1509</td>\n",
              "    </tr>\n",
              "    <tr>\n",
              "      <th>21609</th>\n",
              "      <td>6600060120</td>\n",
              "      <td>400000.0</td>\n",
              "      <td>4</td>\n",
              "      <td>2.50</td>\n",
              "      <td>2310</td>\n",
              "      <td>5813</td>\n",
              "      <td>2.0</td>\n",
              "      <td>0</td>\n",
              "      <td>0</td>\n",
              "      <td>3</td>\n",
              "      <td>8</td>\n",
              "      <td>2310</td>\n",
              "      <td>0</td>\n",
              "      <td>2014</td>\n",
              "      <td>0</td>\n",
              "      <td>98146</td>\n",
              "      <td>47.5107</td>\n",
              "      <td>-122.362</td>\n",
              "      <td>1830</td>\n",
              "      <td>7200</td>\n",
              "    </tr>\n",
              "    <tr>\n",
              "      <th>21610</th>\n",
              "      <td>1523300141</td>\n",
              "      <td>402101.0</td>\n",
              "      <td>2</td>\n",
              "      <td>0.75</td>\n",
              "      <td>1020</td>\n",
              "      <td>1350</td>\n",
              "      <td>2.0</td>\n",
              "      <td>0</td>\n",
              "      <td>0</td>\n",
              "      <td>3</td>\n",
              "      <td>7</td>\n",
              "      <td>1020</td>\n",
              "      <td>0</td>\n",
              "      <td>2009</td>\n",
              "      <td>0</td>\n",
              "      <td>98144</td>\n",
              "      <td>47.5944</td>\n",
              "      <td>-122.299</td>\n",
              "      <td>1020</td>\n",
              "      <td>2007</td>\n",
              "    </tr>\n",
              "    <tr>\n",
              "      <th>21611</th>\n",
              "      <td>291310100</td>\n",
              "      <td>400000.0</td>\n",
              "      <td>3</td>\n",
              "      <td>2.50</td>\n",
              "      <td>1600</td>\n",
              "      <td>2388</td>\n",
              "      <td>2.0</td>\n",
              "      <td>0</td>\n",
              "      <td>0</td>\n",
              "      <td>3</td>\n",
              "      <td>8</td>\n",
              "      <td>1600</td>\n",
              "      <td>0</td>\n",
              "      <td>2004</td>\n",
              "      <td>0</td>\n",
              "      <td>98027</td>\n",
              "      <td>47.5345</td>\n",
              "      <td>-122.069</td>\n",
              "      <td>1410</td>\n",
              "      <td>1287</td>\n",
              "    </tr>\n",
              "    <tr>\n",
              "      <th>21612</th>\n",
              "      <td>1523300157</td>\n",
              "      <td>325000.0</td>\n",
              "      <td>2</td>\n",
              "      <td>0.75</td>\n",
              "      <td>1020</td>\n",
              "      <td>1076</td>\n",
              "      <td>2.0</td>\n",
              "      <td>0</td>\n",
              "      <td>0</td>\n",
              "      <td>3</td>\n",
              "      <td>7</td>\n",
              "      <td>1020</td>\n",
              "      <td>0</td>\n",
              "      <td>2008</td>\n",
              "      <td>0</td>\n",
              "      <td>98144</td>\n",
              "      <td>47.5941</td>\n",
              "      <td>-122.299</td>\n",
              "      <td>1020</td>\n",
              "      <td>1357</td>\n",
              "    </tr>\n",
              "  </tbody>\n",
              "</table>\n",
              "</div>"
            ],
            "text/plain": [
              "               id     price  bedrooms  ...     long  sqft_living15  sqft_lot15\n",
              "21608   263000018  360000.0         3  ... -122.346           1530        1509\n",
              "21609  6600060120  400000.0         4  ... -122.362           1830        7200\n",
              "21610  1523300141  402101.0         2  ... -122.299           1020        2007\n",
              "21611   291310100  400000.0         3  ... -122.069           1410        1287\n",
              "21612  1523300157  325000.0         2  ... -122.299           1020        1357\n",
              "\n",
              "[5 rows x 20 columns]"
            ]
          },
          "metadata": {},
          "execution_count": 5
        }
      ]
    },
    {
      "cell_type": "code",
      "metadata": {
        "colab": {
          "base_uri": "https://localhost:8080/"
        },
        "id": "UkjNO0WdboqY",
        "outputId": "c96b8a14-298d-468a-ccbd-232851efb82d"
      },
      "source": [
        "# Checking if datatypes are appropriate\n",
        "df.info()"
      ],
      "execution_count": null,
      "outputs": [
        {
          "output_type": "stream",
          "name": "stdout",
          "text": [
            "<class 'pandas.core.frame.DataFrame'>\n",
            "RangeIndex: 21613 entries, 0 to 21612\n",
            "Data columns (total 20 columns):\n",
            " #   Column         Non-Null Count  Dtype  \n",
            "---  ------         --------------  -----  \n",
            " 0   id             21613 non-null  int64  \n",
            " 1   price          21613 non-null  float64\n",
            " 2   bedrooms       21613 non-null  int64  \n",
            " 3   bathrooms      21613 non-null  float64\n",
            " 4   sqft_living    21613 non-null  int64  \n",
            " 5   sqft_lot       21613 non-null  int64  \n",
            " 6   floors         21613 non-null  float64\n",
            " 7   waterfront     21613 non-null  int64  \n",
            " 8   view           21613 non-null  int64  \n",
            " 9   condition      21613 non-null  int64  \n",
            " 10  grade          21613 non-null  int64  \n",
            " 11  sqft_above     21613 non-null  int64  \n",
            " 12  sqft_basement  21613 non-null  int64  \n",
            " 13  yr_built       21613 non-null  int64  \n",
            " 14  yr_renovated   21613 non-null  int64  \n",
            " 15  zipcode        21613 non-null  int64  \n",
            " 16  lat            21613 non-null  float64\n",
            " 17  long           21613 non-null  float64\n",
            " 18  sqft_living15  21613 non-null  int64  \n",
            " 19  sqft_lot15     21613 non-null  int64  \n",
            "dtypes: float64(5), int64(15)\n",
            "memory usage: 3.3 MB\n"
          ]
        }
      ]
    },
    {
      "cell_type": "markdown",
      "metadata": {
        "id": "Qnr84STTb3MC"
      },
      "source": [
        "## 4. Cleaning the Data"
      ]
    },
    {
      "cell_type": "code",
      "metadata": {
        "colab": {
          "base_uri": "https://localhost:8080/"
        },
        "id": "JKvdhAIebuka",
        "outputId": "47a0bec9-42bb-48d7-f163-a121e1eec25a"
      },
      "source": [
        "# 1. Checking for null values\n",
        "df.isnull().sum()"
      ],
      "execution_count": null,
      "outputs": [
        {
          "output_type": "execute_result",
          "data": {
            "text/plain": [
              "id               0\n",
              "price            0\n",
              "bedrooms         0\n",
              "bathrooms        0\n",
              "sqft_living      0\n",
              "sqft_lot         0\n",
              "floors           0\n",
              "waterfront       0\n",
              "view             0\n",
              "condition        0\n",
              "grade            0\n",
              "sqft_above       0\n",
              "sqft_basement    0\n",
              "yr_built         0\n",
              "yr_renovated     0\n",
              "zipcode          0\n",
              "lat              0\n",
              "long             0\n",
              "sqft_living15    0\n",
              "sqft_lot15       0\n",
              "dtype: int64"
            ]
          },
          "metadata": {},
          "execution_count": 7
        }
      ]
    },
    {
      "cell_type": "code",
      "metadata": {
        "colab": {
          "base_uri": "https://localhost:8080/"
        },
        "id": "S09osoRUchR5",
        "outputId": "b97a2de6-d970-4290-a0ac-2721e5c14e30"
      },
      "source": [
        "# 2. Checking for duplicates\n",
        "df.duplicated().sum()"
      ],
      "execution_count": null,
      "outputs": [
        {
          "output_type": "execute_result",
          "data": {
            "text/plain": [
              "3"
            ]
          },
          "metadata": {},
          "execution_count": 8
        }
      ]
    },
    {
      "cell_type": "code",
      "metadata": {
        "id": "RIltzrFGc8zv"
      },
      "source": [
        "# Dropping duplicates\n",
        "df.drop_duplicates(inplace = True)"
      ],
      "execution_count": null,
      "outputs": []
    },
    {
      "cell_type": "code",
      "metadata": {
        "id": "Vo7H6ukrcoHQ"
      },
      "source": [
        "# 3. Dropping the columns we don't need\n",
        "df.drop([\"id\", \"zipcode\", \"lat\", \"long\"], axis = 1, inplace = True)"
      ],
      "execution_count": null,
      "outputs": []
    },
    {
      "cell_type": "code",
      "metadata": {
        "colab": {
          "base_uri": "https://localhost:8080/",
          "height": 296
        },
        "id": "_pB60Fc0dN0H",
        "outputId": "cd6ef33b-6feb-406b-b049-0ce4eb66633e"
      },
      "source": [
        "# 4. Checking for outliers\n",
        "sns.boxplot(data = df, x = \"price\")"
      ],
      "execution_count": null,
      "outputs": [
        {
          "output_type": "execute_result",
          "data": {
            "text/plain": [
              "<matplotlib.axes._subplots.AxesSubplot at 0x7f7cec8c6a50>"
            ]
          },
          "metadata": {},
          "execution_count": 11
        },
        {
          "output_type": "display_data",
          "data": {
            "image/png": "[encoded data removed]",
            "text/plain": [
              "<Figure size 432x288 with 1 Axes>"
            ]
          },
          "metadata": {
            "needs_background": "light"
          }
        }
      ]
    },
    {
      "cell_type": "code",
      "metadata": {
        "id": "0uTMkAdSdnP0"
      },
      "source": [
        "# Possible that houses cost more than the others\n",
        "# even 8 million. Since they may be mansions. Or very\n",
        "# expensive houses"
      ],
      "execution_count": null,
      "outputs": []
    },
    {
      "cell_type": "code",
      "metadata": {
        "colab": {
          "base_uri": "https://localhost:8080/",
          "height": 296
        },
        "id": "BtmTTrNJdwE4",
        "outputId": "204db9db-4053-4278-bbd2-9d4045173a14"
      },
      "source": [
        "sns.boxplot(data = df, x = \"bedrooms\")"
      ],
      "execution_count": null,
      "outputs": [
        {
          "output_type": "execute_result",
          "data": {
            "text/plain": [
              "<matplotlib.axes._subplots.AxesSubplot at 0x7f7ced4febd0>"
            ]
          },
          "metadata": {},
          "execution_count": 13
        },
        {
          "output_type": "display_data",
          "data": {
            "image/png": "[encoded data removed]",
            "text/plain": [
              "<Figure size 432x288 with 1 Axes>"
            ]
          },
          "metadata": {
            "needs_background": "light"
          }
        }
      ]
    },
    {
      "cell_type": "code",
      "metadata": {
        "id": "3R5IIxlhd3qq"
      },
      "source": [
        "# One outlier here"
      ],
      "execution_count": null,
      "outputs": []
    },
    {
      "cell_type": "code",
      "metadata": {
        "colab": {
          "base_uri": "https://localhost:8080/",
          "height": 101
        },
        "id": "cFIfH4_5d6as",
        "outputId": "d753f2dd-8f39-4bb4-d248-99903ec11e92"
      },
      "source": [
        "df[df[\"bedrooms\"] > 30]"
      ],
      "execution_count": null,
      "outputs": [
        {
          "output_type": "execute_result",
          "data": {
            "text/html": [
              "<div>\n",
              "<style scoped>\n",
              "    .dataframe tbody tr th:only-of-type {\n",
              "        vertical-align: middle;\n",
              "    }\n",
              "\n",
              "    .dataframe tbody tr th {\n",
              "        vertical-align: top;\n",
              "    }\n",
              "\n",
              "    .dataframe thead th {\n",
              "        text-align: right;\n",
              "    }\n",
              "</style>\n",
              "<table border=\"1\" class=\"dataframe\">\n",
              "  <thead>\n",
              "    <tr style=\"text-align: right;\">\n",
              "      <th></th>\n",
              "      <th>price</th>\n",
              "      <th>bedrooms</th>\n",
              "      <th>bathrooms</th>\n",
              "      <th>sqft_living</th>\n",
              "      <th>sqft_lot</th>\n",
              "      <th>floors</th>\n",
              "      <th>waterfront</th>\n",
              "      <th>view</th>\n",
              "      <th>condition</th>\n",
              "      <th>grade</th>\n",
              "      <th>sqft_above</th>\n",
              "      <th>sqft_basement</th>\n",
              "      <th>yr_built</th>\n",
              "      <th>yr_renovated</th>\n",
              "      <th>sqft_living15</th>\n",
              "      <th>sqft_lot15</th>\n",
              "    </tr>\n",
              "  </thead>\n",
              "  <tbody>\n",
              "    <tr>\n",
              "      <th>15870</th>\n",
              "      <td>640000.0</td>\n",
              "      <td>33</td>\n",
              "      <td>1.75</td>\n",
              "      <td>1620</td>\n",
              "      <td>6000</td>\n",
              "      <td>1.0</td>\n",
              "      <td>0</td>\n",
              "      <td>0</td>\n",
              "      <td>5</td>\n",
              "      <td>7</td>\n",
              "      <td>1040</td>\n",
              "      <td>580</td>\n",
              "      <td>1947</td>\n",
              "      <td>0</td>\n",
              "      <td>1330</td>\n",
              "      <td>4700</td>\n",
              "    </tr>\n",
              "  </tbody>\n",
              "</table>\n",
              "</div>"
            ],
            "text/plain": [
              "          price  bedrooms  bathrooms  ...  yr_renovated  sqft_living15  sqft_lot15\n",
              "15870  640000.0        33       1.75  ...             0           1330        4700\n",
              "\n",
              "[1 rows x 16 columns]"
            ]
          },
          "metadata": {},
          "execution_count": 15
        }
      ]
    },
    {
      "cell_type": "code",
      "metadata": {
        "id": "0xN3uWvaeEAh"
      },
      "source": [
        "# I'll drop the row"
      ],
      "execution_count": null,
      "outputs": []
    },
    {
      "cell_type": "code",
      "metadata": {
        "id": "_IKDwKLqeK7B"
      },
      "source": [
        "df.drop(15870, axis = 0, inplace = True)"
      ],
      "execution_count": null,
      "outputs": []
    },
    {
      "cell_type": "code",
      "metadata": {
        "colab": {
          "base_uri": "https://localhost:8080/",
          "height": 296
        },
        "id": "LZiLpkwzdlaq",
        "outputId": "30882bea-0fb6-4a18-f876-7a4bac260ae1"
      },
      "source": [
        "sns.boxplot(data = df, x = \"floors\")"
      ],
      "execution_count": null,
      "outputs": [
        {
          "output_type": "execute_result",
          "data": {
            "text/plain": [
              "<matplotlib.axes._subplots.AxesSubplot at 0x7f7ceb0435d0>"
            ]
          },
          "metadata": {},
          "execution_count": 18
        },
        {
          "output_type": "display_data",
          "data": {
            "image/png": "[encoded data removed]",
            "text/plain": [
              "<Figure size 432x288 with 1 Axes>"
            ]
          },
          "metadata": {
            "needs_background": "light"
          }
        }
      ]
    },
    {
      "cell_type": "code",
      "metadata": {
        "colab": {
          "base_uri": "https://localhost:8080/"
        },
        "id": "fHV0Dr5Rf54X",
        "outputId": "e06b0e44-63f3-45f8-add2-f9eb73c1463c"
      },
      "source": [
        "df[\"waterfront\"].unique()"
      ],
      "execution_count": null,
      "outputs": [
        {
          "output_type": "execute_result",
          "data": {
            "text/plain": [
              "array([0, 1])"
            ]
          },
          "metadata": {},
          "execution_count": 19
        }
      ]
    },
    {
      "cell_type": "code",
      "metadata": {
        "colab": {
          "base_uri": "https://localhost:8080/"
        },
        "id": "ngsSw3Vif-Lf",
        "outputId": "e7246a4f-12da-425a-cab6-7a0ba5f67957"
      },
      "source": [
        "df[\"view\"].unique()\n",
        "# Quality of view"
      ],
      "execution_count": null,
      "outputs": [
        {
          "output_type": "execute_result",
          "data": {
            "text/plain": [
              "array([0, 3, 4, 2, 1])"
            ]
          },
          "metadata": {},
          "execution_count": 20
        }
      ]
    },
    {
      "cell_type": "code",
      "metadata": {
        "colab": {
          "base_uri": "https://localhost:8080/"
        },
        "id": "EFfSgiUigC9b",
        "outputId": "e23ce0d0-4ebc-4d89-f8d8-33462c958735"
      },
      "source": [
        "df[\"condition\"].unique()"
      ],
      "execution_count": null,
      "outputs": [
        {
          "output_type": "execute_result",
          "data": {
            "text/plain": [
              "array([3, 5, 4, 1, 2])"
            ]
          },
          "metadata": {},
          "execution_count": 21
        }
      ]
    },
    {
      "cell_type": "code",
      "metadata": {
        "colab": {
          "base_uri": "https://localhost:8080/"
        },
        "id": "liSC9TucgJsD",
        "outputId": "4865551f-7b8e-4248-8fbc-6f617dedc017"
      },
      "source": [
        "df[\"grade\"].unique()\n",
        "# Grade of the house - max 13"
      ],
      "execution_count": null,
      "outputs": [
        {
          "output_type": "execute_result",
          "data": {
            "text/plain": [
              "array([ 7,  6,  8, 11,  9,  5, 10, 12,  4,  3, 13,  1])"
            ]
          },
          "metadata": {},
          "execution_count": 22
        }
      ]
    },
    {
      "cell_type": "code",
      "metadata": {
        "colab": {
          "base_uri": "https://localhost:8080/",
          "height": 297
        },
        "id": "v3h60QVafbVL",
        "outputId": "053bc035-3754-411d-cb24-934236859267"
      },
      "source": [
        "sns.boxplot(data = df, x = \"sqft_living\")"
      ],
      "execution_count": null,
      "outputs": [
        {
          "output_type": "execute_result",
          "data": {
            "text/plain": [
              "<matplotlib.axes._subplots.AxesSubplot at 0x7f7ceb035050>"
            ]
          },
          "metadata": {},
          "execution_count": 23
        },
        {
          "output_type": "display_data",
          "data": {
            "image/png": "[encoded data removed]",
            "text/plain": [
              "<Figure size 432x288 with 1 Axes>"
            ]
          },
          "metadata": {
            "needs_background": "light"
          }
        }
      ]
    },
    {
      "cell_type": "code",
      "metadata": {
        "id": "gl5RV-N9fnK2"
      },
      "source": [
        "# Some houses are large,\n",
        "# this is normal.\n",
        "# Especially the expensive ones."
      ],
      "execution_count": null,
      "outputs": []
    },
    {
      "cell_type": "code",
      "metadata": {
        "colab": {
          "base_uri": "https://localhost:8080/",
          "height": 297
        },
        "id": "KQA2wdNOetbm",
        "outputId": "c41c564e-507b-4523-b61b-f180e6edd611"
      },
      "source": [
        "sns.boxplot(data = df, x = \"sqft_basement\")"
      ],
      "execution_count": null,
      "outputs": [
        {
          "output_type": "execute_result",
          "data": {
            "text/plain": [
              "<matplotlib.axes._subplots.AxesSubplot at 0x7f7ceafab450>"
            ]
          },
          "metadata": {},
          "execution_count": 25
        },
        {
          "output_type": "display_data",
          "data": {
            "image/png": "[encoded data removed]",
            "text/plain": [
              "<Figure size 432x288 with 1 Axes>"
            ]
          },
          "metadata": {
            "needs_background": "light"
          }
        }
      ]
    },
    {
      "cell_type": "code",
      "metadata": {
        "id": "31GWG_62fyNL"
      },
      "source": [
        "# There are some large houses.\n",
        "# So they may also have large basements."
      ],
      "execution_count": null,
      "outputs": []
    },
    {
      "cell_type": "code",
      "metadata": {
        "colab": {
          "base_uri": "https://localhost:8080/"
        },
        "id": "t2aJ9oJIfglO",
        "outputId": "5f44eb7f-89dc-4031-fccf-d60253813702"
      },
      "source": [
        "df[\"yr_built\"].max()"
      ],
      "execution_count": null,
      "outputs": [
        {
          "output_type": "execute_result",
          "data": {
            "text/plain": [
              "2015"
            ]
          },
          "metadata": {},
          "execution_count": 27
        }
      ]
    },
    {
      "cell_type": "code",
      "metadata": {
        "colab": {
          "base_uri": "https://localhost:8080/"
        },
        "id": "N8RL_JE_elPk",
        "outputId": "ea120c03-70b7-4cb7-8230-d0c3792c8735"
      },
      "source": [
        "df[\"yr_renovated\"].max()"
      ],
      "execution_count": null,
      "outputs": [
        {
          "output_type": "execute_result",
          "data": {
            "text/plain": [
              "2015"
            ]
          },
          "metadata": {},
          "execution_count": 28
        }
      ]
    },
    {
      "cell_type": "code",
      "metadata": {
        "colab": {
          "base_uri": "https://localhost:8080/",
          "height": 297
        },
        "id": "QmEmwH1-grvF",
        "outputId": "ec387a1f-fae6-4707-cac7-d516bf5bc5cf"
      },
      "source": [
        "sns.boxplot(data = df, x = \"sqft_living15\")"
      ],
      "execution_count": null,
      "outputs": [
        {
          "output_type": "execute_result",
          "data": {
            "text/plain": [
              "<matplotlib.axes._subplots.AxesSubplot at 0x7f7ceaf27190>"
            ]
          },
          "metadata": {},
          "execution_count": 29
        },
        {
          "output_type": "display_data",
          "data": {
            "image/png": "[encoded data removed]",
            "text/plain": [
              "<Figure size 432x288 with 1 Axes>"
            ]
          },
          "metadata": {
            "needs_background": "light"
          }
        }
      ]
    },
    {
      "cell_type": "code",
      "metadata": {
        "id": "u7N1p9BthKyg"
      },
      "source": [
        "# Not abnormal some houses were in very\n",
        "# expensive areas"
      ],
      "execution_count": null,
      "outputs": []
    },
    {
      "cell_type": "code",
      "metadata": {
        "colab": {
          "base_uri": "https://localhost:8080/",
          "height": 297
        },
        "id": "w4Ntu-G2hHOT",
        "outputId": "04c97b53-8772-467a-8361-fa89ad30fda1"
      },
      "source": [
        "sns.boxplot(data = df, x = \"sqft_lot15\")"
      ],
      "execution_count": null,
      "outputs": [
        {
          "output_type": "execute_result",
          "data": {
            "text/plain": [
              "<matplotlib.axes._subplots.AxesSubplot at 0x7f7ceb01f710>"
            ]
          },
          "metadata": {},
          "execution_count": 31
        },
        {
          "output_type": "display_data",
          "data": {
            "image/png": "[encoded data removed]",
            "text/plain": [
              "<Figure size 432x288 with 1 Axes>"
            ]
          },
          "metadata": {
            "needs_background": "light"
          }
        }
      ]
    },
    {
      "cell_type": "code",
      "metadata": {
        "id": "-zptjZshhUSa"
      },
      "source": [
        "# It's possible that most houses had small lot areas.\n",
        "# As most houses have small lot areas. This may be why the larger houses\n",
        "# look like they are outliers."
      ],
      "execution_count": null,
      "outputs": []
    },
    {
      "cell_type": "code",
      "metadata": {
        "colab": {
          "base_uri": "https://localhost:8080/",
          "height": 444
        },
        "id": "Dqd7MqJ8hSmv",
        "outputId": "85b6a409-ff7a-4cfe-85f2-7ea10896f663"
      },
      "source": [
        "# 5. Checking for anomalies\n",
        "df[df[\"yr_renovated\"] < df[\"yr_built\"]]"
      ],
      "execution_count": null,
      "outputs": [
        {
          "output_type": "execute_result",
          "data": {
            "text/html": [
              "<div>\n",
              "<style scoped>\n",
              "    .dataframe tbody tr th:only-of-type {\n",
              "        vertical-align: middle;\n",
              "    }\n",
              "\n",
              "    .dataframe tbody tr th {\n",
              "        vertical-align: top;\n",
              "    }\n",
              "\n",
              "    .dataframe thead th {\n",
              "        text-align: right;\n",
              "    }\n",
              "</style>\n",
              "<table border=\"1\" class=\"dataframe\">\n",
              "  <thead>\n",
              "    <tr style=\"text-align: right;\">\n",
              "      <th></th>\n",
              "      <th>price</th>\n",
              "      <th>bedrooms</th>\n",
              "      <th>bathrooms</th>\n",
              "      <th>sqft_living</th>\n",
              "      <th>sqft_lot</th>\n",
              "      <th>floors</th>\n",
              "      <th>waterfront</th>\n",
              "      <th>view</th>\n",
              "      <th>condition</th>\n",
              "      <th>grade</th>\n",
              "      <th>sqft_above</th>\n",
              "      <th>sqft_basement</th>\n",
              "      <th>yr_built</th>\n",
              "      <th>yr_renovated</th>\n",
              "      <th>sqft_living15</th>\n",
              "      <th>sqft_lot15</th>\n",
              "    </tr>\n",
              "  </thead>\n",
              "  <tbody>\n",
              "    <tr>\n",
              "      <th>0</th>\n",
              "      <td>221900.0</td>\n",
              "      <td>3</td>\n",
              "      <td>1.00</td>\n",
              "      <td>1180</td>\n",
              "      <td>5650</td>\n",
              "      <td>1.0</td>\n",
              "      <td>0</td>\n",
              "      <td>0</td>\n",
              "      <td>3</td>\n",
              "      <td>7</td>\n",
              "      <td>1180</td>\n",
              "      <td>0</td>\n",
              "      <td>1955</td>\n",
              "      <td>0</td>\n",
              "      <td>1340</td>\n",
              "      <td>5650</td>\n",
              "    </tr>\n",
              "    <tr>\n",
              "      <th>2</th>\n",
              "      <td>180000.0</td>\n",
              "      <td>2</td>\n",
              "      <td>1.00</td>\n",
              "      <td>770</td>\n",
              "      <td>10000</td>\n",
              "      <td>1.0</td>\n",
              "      <td>0</td>\n",
              "      <td>0</td>\n",
              "      <td>3</td>\n",
              "      <td>6</td>\n",
              "      <td>770</td>\n",
              "      <td>0</td>\n",
              "      <td>1933</td>\n",
              "      <td>0</td>\n",
              "      <td>2720</td>\n",
              "      <td>8062</td>\n",
              "    </tr>\n",
              "    <tr>\n",
              "      <th>3</th>\n",
              "      <td>604000.0</td>\n",
              "      <td>4</td>\n",
              "      <td>3.00</td>\n",
              "      <td>1960</td>\n",
              "      <td>5000</td>\n",
              "      <td>1.0</td>\n",
              "      <td>0</td>\n",
              "      <td>0</td>\n",
              "      <td>5</td>\n",
              "      <td>7</td>\n",
              "      <td>1050</td>\n",
              "      <td>910</td>\n",
              "      <td>1965</td>\n",
              "      <td>0</td>\n",
              "      <td>1360</td>\n",
              "      <td>5000</td>\n",
              "    </tr>\n",
              "    <tr>\n",
              "      <th>4</th>\n",
              "      <td>510000.0</td>\n",
              "      <td>3</td>\n",
              "      <td>2.00</td>\n",
              "      <td>1680</td>\n",
              "      <td>8080</td>\n",
              "      <td>1.0</td>\n",
              "      <td>0</td>\n",
              "      <td>0</td>\n",
              "      <td>3</td>\n",
              "      <td>8</td>\n",
              "      <td>1680</td>\n",
              "      <td>0</td>\n",
              "      <td>1987</td>\n",
              "      <td>0</td>\n",
              "      <td>1800</td>\n",
              "      <td>7503</td>\n",
              "    </tr>\n",
              "    <tr>\n",
              "      <th>5</th>\n",
              "      <td>1230000.0</td>\n",
              "      <td>4</td>\n",
              "      <td>4.50</td>\n",
              "      <td>5420</td>\n",
              "      <td>101930</td>\n",
              "      <td>1.0</td>\n",
              "      <td>0</td>\n",
              "      <td>0</td>\n",
              "      <td>3</td>\n",
              "      <td>11</td>\n",
              "      <td>3890</td>\n",
              "      <td>1530</td>\n",
              "      <td>2001</td>\n",
              "      <td>0</td>\n",
              "      <td>4760</td>\n",
              "      <td>101930</td>\n",
              "    </tr>\n",
              "    <tr>\n",
              "      <th>...</th>\n",
              "      <td>...</td>\n",
              "      <td>...</td>\n",
              "      <td>...</td>\n",
              "      <td>...</td>\n",
              "      <td>...</td>\n",
              "      <td>...</td>\n",
              "      <td>...</td>\n",
              "      <td>...</td>\n",
              "      <td>...</td>\n",
              "      <td>...</td>\n",
              "      <td>...</td>\n",
              "      <td>...</td>\n",
              "      <td>...</td>\n",
              "      <td>...</td>\n",
              "      <td>...</td>\n",
              "      <td>...</td>\n",
              "    </tr>\n",
              "    <tr>\n",
              "      <th>21608</th>\n",
              "      <td>360000.0</td>\n",
              "      <td>3</td>\n",
              "      <td>2.50</td>\n",
              "      <td>1530</td>\n",
              "      <td>1131</td>\n",
              "      <td>3.0</td>\n",
              "      <td>0</td>\n",
              "      <td>0</td>\n",
              "      <td>3</td>\n",
              "      <td>8</td>\n",
              "      <td>1530</td>\n",
              "      <td>0</td>\n",
              "      <td>2009</td>\n",
              "      <td>0</td>\n",
              "      <td>1530</td>\n",
              "      <td>1509</td>\n",
              "    </tr>\n",
              "    <tr>\n",
              "      <th>21609</th>\n",
              "      <td>400000.0</td>\n",
              "      <td>4</td>\n",
              "      <td>2.50</td>\n",
              "      <td>2310</td>\n",
              "      <td>5813</td>\n",
              "      <td>2.0</td>\n",
              "      <td>0</td>\n",
              "      <td>0</td>\n",
              "      <td>3</td>\n",
              "      <td>8</td>\n",
              "      <td>2310</td>\n",
              "      <td>0</td>\n",
              "      <td>2014</td>\n",
              "      <td>0</td>\n",
              "      <td>1830</td>\n",
              "      <td>7200</td>\n",
              "    </tr>\n",
              "    <tr>\n",
              "      <th>21610</th>\n",
              "      <td>402101.0</td>\n",
              "      <td>2</td>\n",
              "      <td>0.75</td>\n",
              "      <td>1020</td>\n",
              "      <td>1350</td>\n",
              "      <td>2.0</td>\n",
              "      <td>0</td>\n",
              "      <td>0</td>\n",
              "      <td>3</td>\n",
              "      <td>7</td>\n",
              "      <td>1020</td>\n",
              "      <td>0</td>\n",
              "      <td>2009</td>\n",
              "      <td>0</td>\n",
              "      <td>1020</td>\n",
              "      <td>2007</td>\n",
              "    </tr>\n",
              "    <tr>\n",
              "      <th>21611</th>\n",
              "      <td>400000.0</td>\n",
              "      <td>3</td>\n",
              "      <td>2.50</td>\n",
              "      <td>1600</td>\n",
              "      <td>2388</td>\n",
              "      <td>2.0</td>\n",
              "      <td>0</td>\n",
              "      <td>0</td>\n",
              "      <td>3</td>\n",
              "      <td>8</td>\n",
              "      <td>1600</td>\n",
              "      <td>0</td>\n",
              "      <td>2004</td>\n",
              "      <td>0</td>\n",
              "      <td>1410</td>\n",
              "      <td>1287</td>\n",
              "    </tr>\n",
              "    <tr>\n",
              "      <th>21612</th>\n",
              "      <td>325000.0</td>\n",
              "      <td>2</td>\n",
              "      <td>0.75</td>\n",
              "      <td>1020</td>\n",
              "      <td>1076</td>\n",
              "      <td>2.0</td>\n",
              "      <td>0</td>\n",
              "      <td>0</td>\n",
              "      <td>3</td>\n",
              "      <td>7</td>\n",
              "      <td>1020</td>\n",
              "      <td>0</td>\n",
              "      <td>2008</td>\n",
              "      <td>0</td>\n",
              "      <td>1020</td>\n",
              "      <td>1357</td>\n",
              "    </tr>\n",
              "  </tbody>\n",
              "</table>\n",
              "<p>20696 rows × 16 columns</p>\n",
              "</div>"
            ],
            "text/plain": [
              "           price  bedrooms  bathrooms  ...  yr_renovated  sqft_living15  sqft_lot15\n",
              "0       221900.0         3       1.00  ...             0           1340        5650\n",
              "2       180000.0         2       1.00  ...             0           2720        8062\n",
              "3       604000.0         4       3.00  ...             0           1360        5000\n",
              "4       510000.0         3       2.00  ...             0           1800        7503\n",
              "5      1230000.0         4       4.50  ...             0           4760      101930\n",
              "...          ...       ...        ...  ...           ...            ...         ...\n",
              "21608   360000.0         3       2.50  ...             0           1530        1509\n",
              "21609   400000.0         4       2.50  ...             0           1830        7200\n",
              "21610   402101.0         2       0.75  ...             0           1020        2007\n",
              "21611   400000.0         3       2.50  ...             0           1410        1287\n",
              "21612   325000.0         2       0.75  ...             0           1020        1357\n",
              "\n",
              "[20696 rows x 16 columns]"
            ]
          },
          "metadata": {},
          "execution_count": 33
        }
      ]
    },
    {
      "cell_type": "code",
      "metadata": {
        "id": "OS_g6S9qidcW"
      },
      "source": [
        "# This is not an anomaly.\n",
        "# Zero was just entered, to mean that it has not been renovated.\n",
        "# Which is good as it will not mess up the model."
      ],
      "execution_count": null,
      "outputs": []
    },
    {
      "cell_type": "code",
      "metadata": {
        "colab": {
          "base_uri": "https://localhost:8080/",
          "height": 226
        },
        "id": "2LHRVCmXk08M",
        "outputId": "9e7ecc6e-ba78-4767-e7fd-a08e00f53a57"
      },
      "source": [
        "# There are some anomoalies with the counts,\n",
        "# like bathroom counts.\n",
        "df.head()"
      ],
      "execution_count": null,
      "outputs": [
        {
          "output_type": "execute_result",
          "data": {
            "text/html": [
              "<div>\n",
              "<style scoped>\n",
              "    .dataframe tbody tr th:only-of-type {\n",
              "        vertical-align: middle;\n",
              "    }\n",
              "\n",
              "    .dataframe tbody tr th {\n",
              "        vertical-align: top;\n",
              "    }\n",
              "\n",
              "    .dataframe thead th {\n",
              "        text-align: right;\n",
              "    }\n",
              "</style>\n",
              "<table border=\"1\" class=\"dataframe\">\n",
              "  <thead>\n",
              "    <tr style=\"text-align: right;\">\n",
              "      <th></th>\n",
              "      <th>price</th>\n",
              "      <th>bedrooms</th>\n",
              "      <th>bathrooms</th>\n",
              "      <th>sqft_living</th>\n",
              "      <th>sqft_lot</th>\n",
              "      <th>floors</th>\n",
              "      <th>waterfront</th>\n",
              "      <th>view</th>\n",
              "      <th>condition</th>\n",
              "      <th>grade</th>\n",
              "      <th>sqft_above</th>\n",
              "      <th>sqft_basement</th>\n",
              "      <th>yr_built</th>\n",
              "      <th>yr_renovated</th>\n",
              "      <th>sqft_living15</th>\n",
              "      <th>sqft_lot15</th>\n",
              "    </tr>\n",
              "  </thead>\n",
              "  <tbody>\n",
              "    <tr>\n",
              "      <th>0</th>\n",
              "      <td>221900.0</td>\n",
              "      <td>3</td>\n",
              "      <td>1.00</td>\n",
              "      <td>1180</td>\n",
              "      <td>5650</td>\n",
              "      <td>1.0</td>\n",
              "      <td>0</td>\n",
              "      <td>0</td>\n",
              "      <td>3</td>\n",
              "      <td>7</td>\n",
              "      <td>1180</td>\n",
              "      <td>0</td>\n",
              "      <td>1955</td>\n",
              "      <td>0</td>\n",
              "      <td>1340</td>\n",
              "      <td>5650</td>\n",
              "    </tr>\n",
              "    <tr>\n",
              "      <th>1</th>\n",
              "      <td>538000.0</td>\n",
              "      <td>3</td>\n",
              "      <td>2.25</td>\n",
              "      <td>2570</td>\n",
              "      <td>7242</td>\n",
              "      <td>2.0</td>\n",
              "      <td>0</td>\n",
              "      <td>0</td>\n",
              "      <td>3</td>\n",
              "      <td>7</td>\n",
              "      <td>2170</td>\n",
              "      <td>400</td>\n",
              "      <td>1951</td>\n",
              "      <td>1991</td>\n",
              "      <td>1690</td>\n",
              "      <td>7639</td>\n",
              "    </tr>\n",
              "    <tr>\n",
              "      <th>2</th>\n",
              "      <td>180000.0</td>\n",
              "      <td>2</td>\n",
              "      <td>1.00</td>\n",
              "      <td>770</td>\n",
              "      <td>10000</td>\n",
              "      <td>1.0</td>\n",
              "      <td>0</td>\n",
              "      <td>0</td>\n",
              "      <td>3</td>\n",
              "      <td>6</td>\n",
              "      <td>770</td>\n",
              "      <td>0</td>\n",
              "      <td>1933</td>\n",
              "      <td>0</td>\n",
              "      <td>2720</td>\n",
              "      <td>8062</td>\n",
              "    </tr>\n",
              "    <tr>\n",
              "      <th>3</th>\n",
              "      <td>604000.0</td>\n",
              "      <td>4</td>\n",
              "      <td>3.00</td>\n",
              "      <td>1960</td>\n",
              "      <td>5000</td>\n",
              "      <td>1.0</td>\n",
              "      <td>0</td>\n",
              "      <td>0</td>\n",
              "      <td>5</td>\n",
              "      <td>7</td>\n",
              "      <td>1050</td>\n",
              "      <td>910</td>\n",
              "      <td>1965</td>\n",
              "      <td>0</td>\n",
              "      <td>1360</td>\n",
              "      <td>5000</td>\n",
              "    </tr>\n",
              "    <tr>\n",
              "      <th>4</th>\n",
              "      <td>510000.0</td>\n",
              "      <td>3</td>\n",
              "      <td>2.00</td>\n",
              "      <td>1680</td>\n",
              "      <td>8080</td>\n",
              "      <td>1.0</td>\n",
              "      <td>0</td>\n",
              "      <td>0</td>\n",
              "      <td>3</td>\n",
              "      <td>8</td>\n",
              "      <td>1680</td>\n",
              "      <td>0</td>\n",
              "      <td>1987</td>\n",
              "      <td>0</td>\n",
              "      <td>1800</td>\n",
              "      <td>7503</td>\n",
              "    </tr>\n",
              "  </tbody>\n",
              "</table>\n",
              "</div>"
            ],
            "text/plain": [
              "      price  bedrooms  bathrooms  ...  yr_renovated  sqft_living15  sqft_lot15\n",
              "0  221900.0         3       1.00  ...             0           1340        5650\n",
              "1  538000.0         3       2.25  ...          1991           1690        7639\n",
              "2  180000.0         2       1.00  ...             0           2720        8062\n",
              "3  604000.0         4       3.00  ...             0           1360        5000\n",
              "4  510000.0         3       2.00  ...             0           1800        7503\n",
              "\n",
              "[5 rows x 16 columns]"
            ]
          },
          "metadata": {},
          "execution_count": 35
        }
      ]
    },
    {
      "cell_type": "code",
      "metadata": {
        "id": "_3DwV0gKk9Vw"
      },
      "source": [
        "# They need to be rounded to whole numbers\n",
        "df[[\"bedrooms\", \"bathrooms\", \"waterfront\", \"view\", \"condition\"]] = df[[\"bedrooms\", \"bathrooms\", \"waterfront\", \"view\", \"condition\"]].apply(np.round)"
      ],
      "execution_count": null,
      "outputs": []
    },
    {
      "cell_type": "code",
      "metadata": {
        "colab": {
          "base_uri": "https://localhost:8080/",
          "height": 226
        },
        "id": "JTNSSO1Sl18T",
        "outputId": "3ffd1be2-04ae-4f9e-a070-fe09b966060e"
      },
      "source": [
        "df.head()"
      ],
      "execution_count": null,
      "outputs": [
        {
          "output_type": "execute_result",
          "data": {
            "text/html": [
              "<div>\n",
              "<style scoped>\n",
              "    .dataframe tbody tr th:only-of-type {\n",
              "        vertical-align: middle;\n",
              "    }\n",
              "\n",
              "    .dataframe tbody tr th {\n",
              "        vertical-align: top;\n",
              "    }\n",
              "\n",
              "    .dataframe thead th {\n",
              "        text-align: right;\n",
              "    }\n",
              "</style>\n",
              "<table border=\"1\" class=\"dataframe\">\n",
              "  <thead>\n",
              "    <tr style=\"text-align: right;\">\n",
              "      <th></th>\n",
              "      <th>price</th>\n",
              "      <th>bedrooms</th>\n",
              "      <th>bathrooms</th>\n",
              "      <th>sqft_living</th>\n",
              "      <th>sqft_lot</th>\n",
              "      <th>floors</th>\n",
              "      <th>waterfront</th>\n",
              "      <th>view</th>\n",
              "      <th>condition</th>\n",
              "      <th>grade</th>\n",
              "      <th>sqft_above</th>\n",
              "      <th>sqft_basement</th>\n",
              "      <th>yr_built</th>\n",
              "      <th>yr_renovated</th>\n",
              "      <th>sqft_living15</th>\n",
              "      <th>sqft_lot15</th>\n",
              "    </tr>\n",
              "  </thead>\n",
              "  <tbody>\n",
              "    <tr>\n",
              "      <th>0</th>\n",
              "      <td>221900.0</td>\n",
              "      <td>3</td>\n",
              "      <td>1.0</td>\n",
              "      <td>1180</td>\n",
              "      <td>5650</td>\n",
              "      <td>1.0</td>\n",
              "      <td>0</td>\n",
              "      <td>0</td>\n",
              "      <td>3</td>\n",
              "      <td>7</td>\n",
              "      <td>1180</td>\n",
              "      <td>0</td>\n",
              "      <td>1955</td>\n",
              "      <td>0</td>\n",
              "      <td>1340</td>\n",
              "      <td>5650</td>\n",
              "    </tr>\n",
              "    <tr>\n",
              "      <th>1</th>\n",
              "      <td>538000.0</td>\n",
              "      <td>3</td>\n",
              "      <td>2.0</td>\n",
              "      <td>2570</td>\n",
              "      <td>7242</td>\n",
              "      <td>2.0</td>\n",
              "      <td>0</td>\n",
              "      <td>0</td>\n",
              "      <td>3</td>\n",
              "      <td>7</td>\n",
              "      <td>2170</td>\n",
              "      <td>400</td>\n",
              "      <td>1951</td>\n",
              "      <td>1991</td>\n",
              "      <td>1690</td>\n",
              "      <td>7639</td>\n",
              "    </tr>\n",
              "    <tr>\n",
              "      <th>2</th>\n",
              "      <td>180000.0</td>\n",
              "      <td>2</td>\n",
              "      <td>1.0</td>\n",
              "      <td>770</td>\n",
              "      <td>10000</td>\n",
              "      <td>1.0</td>\n",
              "      <td>0</td>\n",
              "      <td>0</td>\n",
              "      <td>3</td>\n",
              "      <td>6</td>\n",
              "      <td>770</td>\n",
              "      <td>0</td>\n",
              "      <td>1933</td>\n",
              "      <td>0</td>\n",
              "      <td>2720</td>\n",
              "      <td>8062</td>\n",
              "    </tr>\n",
              "    <tr>\n",
              "      <th>3</th>\n",
              "      <td>604000.0</td>\n",
              "      <td>4</td>\n",
              "      <td>3.0</td>\n",
              "      <td>1960</td>\n",
              "      <td>5000</td>\n",
              "      <td>1.0</td>\n",
              "      <td>0</td>\n",
              "      <td>0</td>\n",
              "      <td>5</td>\n",
              "      <td>7</td>\n",
              "      <td>1050</td>\n",
              "      <td>910</td>\n",
              "      <td>1965</td>\n",
              "      <td>0</td>\n",
              "      <td>1360</td>\n",
              "      <td>5000</td>\n",
              "    </tr>\n",
              "    <tr>\n",
              "      <th>4</th>\n",
              "      <td>510000.0</td>\n",
              "      <td>3</td>\n",
              "      <td>2.0</td>\n",
              "      <td>1680</td>\n",
              "      <td>8080</td>\n",
              "      <td>1.0</td>\n",
              "      <td>0</td>\n",
              "      <td>0</td>\n",
              "      <td>3</td>\n",
              "      <td>8</td>\n",
              "      <td>1680</td>\n",
              "      <td>0</td>\n",
              "      <td>1987</td>\n",
              "      <td>0</td>\n",
              "      <td>1800</td>\n",
              "      <td>7503</td>\n",
              "    </tr>\n",
              "  </tbody>\n",
              "</table>\n",
              "</div>"
            ],
            "text/plain": [
              "      price  bedrooms  bathrooms  ...  yr_renovated  sqft_living15  sqft_lot15\n",
              "0  221900.0         3        1.0  ...             0           1340        5650\n",
              "1  538000.0         3        2.0  ...          1991           1690        7639\n",
              "2  180000.0         2        1.0  ...             0           2720        8062\n",
              "3  604000.0         4        3.0  ...             0           1360        5000\n",
              "4  510000.0         3        2.0  ...             0           1800        7503\n",
              "\n",
              "[5 rows x 16 columns]"
            ]
          },
          "metadata": {},
          "execution_count": 37
        }
      ]
    },
    {
      "cell_type": "code",
      "metadata": {
        "id": "YmsFVjdYiybz"
      },
      "source": [
        "# 6. Trim strings of column names\n",
        "df.columns = df.columns.str.strip()"
      ],
      "execution_count": null,
      "outputs": []
    },
    {
      "cell_type": "code",
      "metadata": {
        "id": "HSFDtcb7ijuC"
      },
      "source": [
        "# 7. Change column names\n",
        "\n",
        "# The column names look ok,\n",
        "# I am comfortable with them"
      ],
      "execution_count": null,
      "outputs": []
    },
    {
      "cell_type": "markdown",
      "metadata": {
        "id": "GD5meX2JFl8M"
      },
      "source": [
        "## 5. Exploratory Data analysis"
      ]
    },
    {
      "cell_type": "markdown",
      "metadata": {
        "id": "qNM4V9C3jfot"
      },
      "source": [
        "### Univariate analysis"
      ]
    },
    {
      "cell_type": "code",
      "metadata": {
        "colab": {
          "base_uri": "https://localhost:8080/"
        },
        "id": "3kr6wAEkjSMn",
        "outputId": "5249e075-60f6-4185-bfd5-82590bbc142b"
      },
      "source": [
        "df[\"price\"].describe()"
      ],
      "execution_count": null,
      "outputs": [
        {
          "output_type": "execute_result",
          "data": {
            "text/plain": [
              "count    2.160900e+04\n",
              "mean     5.401743e+05\n",
              "std      3.673955e+05\n",
              "min      7.500000e+04\n",
              "25%      3.215000e+05\n",
              "50%      4.500000e+05\n",
              "75%      6.450000e+05\n",
              "max      7.700000e+06\n",
              "Name: price, dtype: float64"
            ]
          },
          "metadata": {},
          "execution_count": 40
        }
      ]
    },
    {
      "cell_type": "code",
      "metadata": {
        "colab": {
          "base_uri": "https://localhost:8080/",
          "height": 386
        },
        "id": "Y3BUWr0Cj91i",
        "outputId": "2be65c93-8277-4d6b-dd76-0c3e6f5f2784"
      },
      "source": [
        "sns.displot(data = df, x = \"price\")"
      ],
      "execution_count": null,
      "outputs": [
        {
          "output_type": "execute_result",
          "data": {
            "text/plain": [
              "<seaborn.axisgrid.FacetGrid at 0x7f7ceae01f10>"
            ]
          },
          "metadata": {},
          "execution_count": 41
        },
        {
          "output_type": "display_data",
          "data": {
            "image/png": "[encoded data removed]",
            "text/plain": [
              "<Figure size 360x360 with 1 Axes>"
            ]
          },
          "metadata": {
            "needs_background": "light"
          }
        }
      ]
    },
    {
      "cell_type": "code",
      "metadata": {
        "id": "XkRGNy6TkSQd"
      },
      "source": [
        "# The distribution of the prices is normal\n",
        "# Most houses, are cheaper between 0 and $1,000,000 "
      ],
      "execution_count": null,
      "outputs": []
    },
    {
      "cell_type": "code",
      "metadata": {
        "colab": {
          "base_uri": "https://localhost:8080/",
          "height": 386
        },
        "id": "3fHTfRb3n-6E",
        "outputId": "3da8571d-2d70-4464-eab9-223fa4e01cbe"
      },
      "source": [
        "sns.displot(data = df, x = \"sqft_living\")"
      ],
      "execution_count": null,
      "outputs": [
        {
          "output_type": "execute_result",
          "data": {
            "text/plain": [
              "<seaborn.axisgrid.FacetGrid at 0x7f7ce21eda10>"
            ]
          },
          "metadata": {},
          "execution_count": 43
        },
        {
          "output_type": "display_data",
          "data": {
            "image/png": "[encoded data removed]",
            "text/plain": [
              "<Figure size 360x360 with 1 Axes>"
            ]
          },
          "metadata": {
            "needs_background": "light"
          }
        }
      ]
    },
    {
      "cell_type": "code",
      "metadata": {
        "id": "QY_hBFn2oR8Z"
      },
      "source": [
        "# Normal distribution\n",
        "# Most are around 2000 square\n",
        "# foot. Then it goes down."
      ],
      "execution_count": null,
      "outputs": []
    },
    {
      "cell_type": "code",
      "metadata": {
        "colab": {
          "base_uri": "https://localhost:8080/",
          "height": 386
        },
        "id": "ZNxdznvEoiJJ",
        "outputId": "9436928f-9924-4730-df83-76dc9614e283"
      },
      "source": [
        "sns.displot(data = df, x = \"sqft_lot\")"
      ],
      "execution_count": null,
      "outputs": [
        {
          "output_type": "execute_result",
          "data": {
            "text/plain": [
              "<seaborn.axisgrid.FacetGrid at 0x7f7ce1fa1310>"
            ]
          },
          "metadata": {},
          "execution_count": 45
        },
        {
          "output_type": "display_data",
          "data": {
            "image/png": "[encoded data removed]",
            "text/plain": [
              "<Figure size 360x360 with 1 Axes>"
            ]
          },
          "metadata": {
            "needs_background": "light"
          }
        }
      ]
    },
    {
      "cell_type": "code",
      "metadata": {
        "id": "zTn_8eNtopDv"
      },
      "source": [
        "# Most homes have a very small\n",
        "# lot area. Becuase they are not expensive.\n",
        "# And most people don't want to spend the money outside. "
      ],
      "execution_count": null,
      "outputs": []
    },
    {
      "cell_type": "code",
      "metadata": {
        "colab": {
          "base_uri": "https://localhost:8080/",
          "height": 296
        },
        "id": "ZV6o5vB_kmNh",
        "outputId": "edc9637b-4099-491d-c1dc-f5978d89f256"
      },
      "source": [
        "sns.countplot(data = df, x = \"bedrooms\", color = \"lightblue\")"
      ],
      "execution_count": null,
      "outputs": [
        {
          "output_type": "execute_result",
          "data": {
            "text/plain": [
              "<matplotlib.axes._subplots.AxesSubplot at 0x7f7cdff2fa50>"
            ]
          },
          "metadata": {},
          "execution_count": 47
        },
        {
          "output_type": "display_data",
          "data": {
            "image/png": "[encoded data removed]",
            "text/plain": [
              "<Figure size 432x288 with 1 Axes>"
            ]
          },
          "metadata": {
            "needs_background": "light"
          }
        }
      ]
    },
    {
      "cell_type": "code",
      "metadata": {
        "id": "pV9aP7Brns15"
      },
      "source": [
        "# Normal, most houses have 3 bedrooms. Then\n",
        "# they either increase, or decrease from there"
      ],
      "execution_count": null,
      "outputs": []
    },
    {
      "cell_type": "code",
      "metadata": {
        "colab": {
          "base_uri": "https://localhost:8080/",
          "height": 296
        },
        "id": "vy9AcyfMnzPz",
        "outputId": "1a43f8e7-561c-4e60-8cbf-12c7958d8949"
      },
      "source": [
        "sns.countplot(data = df, x = \"bathrooms\", color = \"lightblue\")"
      ],
      "execution_count": null,
      "outputs": [
        {
          "output_type": "execute_result",
          "data": {
            "text/plain": [
              "<matplotlib.axes._subplots.AxesSubplot at 0x7f7cdf4bf3d0>"
            ]
          },
          "metadata": {},
          "execution_count": 49
        },
        {
          "output_type": "display_data",
          "data": {
            "image/png": "[encoded data removed]",
            "text/plain": [
              "<Figure size 432x288 with 1 Axes>"
            ]
          },
          "metadata": {
            "needs_background": "light"
          }
        }
      ]
    },
    {
      "cell_type": "code",
      "metadata": {
        "id": "_UH5N9ccn4E0"
      },
      "source": [
        "# Most houses also only have 2 bathrooms. Even though they have 3\n",
        "# bedrooms. So they do not make them equally"
      ],
      "execution_count": null,
      "outputs": []
    },
    {
      "cell_type": "code",
      "metadata": {
        "colab": {
          "base_uri": "https://localhost:8080/",
          "height": 296
        },
        "id": "0XTq8O-cje68",
        "outputId": "8f31c60b-18de-460e-ad0a-d532bf58cf43"
      },
      "source": [
        "sns.countplot(data = df, x = \"floors\", color = \"lightblue\")"
      ],
      "execution_count": null,
      "outputs": [
        {
          "output_type": "execute_result",
          "data": {
            "text/plain": [
              "<matplotlib.axes._subplots.AxesSubplot at 0x7f7cdeda2110>"
            ]
          },
          "metadata": {},
          "execution_count": 51
        },
        {
          "output_type": "display_data",
          "data": {
            "image/png": "[encoded data removed]",
            "text/plain": [
              "<Figure size 432x288 with 1 Axes>"
            ]
          },
          "metadata": {
            "needs_background": "light"
          }
        }
      ]
    },
    {
      "cell_type": "code",
      "metadata": {
        "id": "JN1gb0CmpjV2"
      },
      "source": [
        "# I believe a half, is an attic.\n",
        "# Which is ok.\n",
        "# It would help the model.\n",
        "\n",
        "# Otherwise most houses have 1 / 2\n",
        "# floors"
      ],
      "execution_count": null,
      "outputs": []
    },
    {
      "cell_type": "code",
      "metadata": {
        "colab": {
          "base_uri": "https://localhost:8080/",
          "height": 386
        },
        "id": "BgFO4hV9jURz",
        "outputId": "f4fff494-fb0d-4ba9-f9d7-59964dde6c5a"
      },
      "source": [
        "sns.displot(data = df, x = \"sqft_above\")"
      ],
      "execution_count": null,
      "outputs": [
        {
          "output_type": "execute_result",
          "data": {
            "text/plain": [
              "<seaborn.axisgrid.FacetGrid at 0x7f7cdeda2990>"
            ]
          },
          "metadata": {},
          "execution_count": 53
        },
        {
          "output_type": "display_data",
          "data": {
            "image/png": "[encoded data removed]",
            "text/plain": [
              "<Figure size 360x360 with 1 Axes>"
            ]
          },
          "metadata": {
            "needs_background": "light"
          }
        }
      ]
    },
    {
      "cell_type": "code",
      "metadata": {
        "id": "G9pG0s8sqjC8"
      },
      "source": [
        "# Most houses have balconys.\n",
        "# Which is good as it will raise the price.\n",
        "# Also it is normal that they are around 1200 foot in\n",
        "# size."
      ],
      "execution_count": null,
      "outputs": []
    },
    {
      "cell_type": "code",
      "metadata": {
        "colab": {
          "base_uri": "https://localhost:8080/",
          "height": 386
        },
        "id": "Z3tUPUhaq9rO",
        "outputId": "62d7579e-d265-48e0-f07d-2c069f754be8"
      },
      "source": [
        "sns.displot(data = df, x = \"sqft_basement\")"
      ],
      "execution_count": null,
      "outputs": [
        {
          "output_type": "execute_result",
          "data": {
            "text/plain": [
              "<seaborn.axisgrid.FacetGrid at 0x7f7cdece0d10>"
            ]
          },
          "metadata": {},
          "execution_count": 55
        },
        {
          "output_type": "display_data",
          "data": {
            "image/png": "[encoded data removed]",
            "text/plain": [
              "<Figure size 360x360 with 1 Axes>"
            ]
          },
          "metadata": {
            "needs_background": "light"
          }
        }
      ]
    },
    {
      "cell_type": "code",
      "metadata": {
        "id": "b4UgVYMwrDKR"
      },
      "source": [
        "# Most houses did not have a basement\n",
        "# Which is normal. As people do not believe that\n",
        "# basements raise prices."
      ],
      "execution_count": null,
      "outputs": []
    },
    {
      "cell_type": "code",
      "metadata": {
        "colab": {
          "base_uri": "https://localhost:8080/",
          "height": 386
        },
        "id": "PFn_YB-bq4Kh",
        "outputId": "f5b3eb49-7978-4c4a-ae00-8d563f8dfa4e"
      },
      "source": [
        "sns.displot(data = df, x = \"yr_built\")"
      ],
      "execution_count": null,
      "outputs": [
        {
          "output_type": "execute_result",
          "data": {
            "text/plain": [
              "<seaborn.axisgrid.FacetGrid at 0x7f7cdebb4e10>"
            ]
          },
          "metadata": {},
          "execution_count": 57
        },
        {
          "output_type": "display_data",
          "data": {
            "image/png": "[encoded data removed]",
            "text/plain": [
              "<Figure size 360x360 with 1 Axes>"
            ]
          },
          "metadata": {
            "needs_background": "light"
          }
        }
      ]
    },
    {
      "cell_type": "code",
      "metadata": {
        "id": "liWff9KZrbb1"
      },
      "source": [
        "# It seems houses in this dataset are more recent.\n",
        "# Which means they may sell for more.\n",
        "# As they may have more modern things.\n",
        "\n",
        "# However, it means we can't account for old houses that\n",
        "# much."
      ],
      "execution_count": null,
      "outputs": []
    },
    {
      "cell_type": "markdown",
      "metadata": {
        "id": "IcjSpbxZrpOo"
      },
      "source": [
        "### Bivariate analysis"
      ]
    },
    {
      "cell_type": "code",
      "metadata": {
        "colab": {
          "base_uri": "https://localhost:8080/",
          "height": 308
        },
        "id": "LiIL7XqhqQSV",
        "outputId": "461eca44-47a8-4b83-e23c-d19e5e2cfc27"
      },
      "source": [
        "sns.scatterplot(data = df, x = \"sqft_living\", y = \"price\")"
      ],
      "execution_count": null,
      "outputs": [
        {
          "output_type": "execute_result",
          "data": {
            "text/plain": [
              "<matplotlib.axes._subplots.AxesSubplot at 0x7f7ce0fa61d0>"
            ]
          },
          "metadata": {},
          "execution_count": 59
        },
        {
          "output_type": "display_data",
          "data": {
            "image/png": "[encoded data removed]",
            "text/plain": [
              "<Figure size 432x288 with 1 Axes>"
            ]
          },
          "metadata": {
            "needs_background": "light"
          }
        }
      ]
    },
    {
      "cell_type": "code",
      "metadata": {
        "id": "nFmZe5O0s398"
      },
      "source": [
        "# Price increases with square foot living\n",
        "# area"
      ],
      "execution_count": null,
      "outputs": []
    },
    {
      "cell_type": "code",
      "metadata": {
        "colab": {
          "base_uri": "https://localhost:8080/",
          "height": 308
        },
        "id": "2-gmyZVRs10K",
        "outputId": "a021a713-400d-48b2-9024-03417450b056"
      },
      "source": [
        "sns.scatterplot(data = df, x = \"sqft_lot\", y = \"price\")"
      ],
      "execution_count": null,
      "outputs": [
        {
          "output_type": "execute_result",
          "data": {
            "text/plain": [
              "<matplotlib.axes._subplots.AxesSubplot at 0x7f7cdea0e950>"
            ]
          },
          "metadata": {},
          "execution_count": 61
        },
        {
          "output_type": "display_data",
          "data": {
            "image/png": "[encoded data removed]",
            "text/plain": [
              "<Figure size 432x288 with 1 Axes>"
            ]
          },
          "metadata": {
            "needs_background": "light"
          }
        }
      ]
    },
    {
      "cell_type": "code",
      "metadata": {
        "id": "l0gEm3EmtA1r"
      },
      "source": [
        "# Price increases momentarily with square foot lot\n",
        "# area"
      ],
      "execution_count": null,
      "outputs": []
    },
    {
      "cell_type": "code",
      "metadata": {
        "colab": {
          "base_uri": "https://localhost:8080/",
          "height": 308
        },
        "id": "sAcn0bnHtIIT",
        "outputId": "eba72088-ac21-47b3-8cb6-82f3d9584c5b"
      },
      "source": [
        "sns.scatterplot(data = df, x = \"sqft_above\", y = \"price\")"
      ],
      "execution_count": null,
      "outputs": [
        {
          "output_type": "execute_result",
          "data": {
            "text/plain": [
              "<matplotlib.axes._subplots.AxesSubplot at 0x7f7cdea79f10>"
            ]
          },
          "metadata": {},
          "execution_count": 63
        },
        {
          "output_type": "display_data",
          "data": {
            "image/png": "[encoded data removed]",
            "text/plain": [
              "<Figure size 432x288 with 1 Axes>"
            ]
          },
          "metadata": {
            "needs_background": "light"
          }
        }
      ]
    },
    {
      "cell_type": "code",
      "metadata": {
        "id": "NzOd6VWutQoe"
      },
      "source": [
        "# Square foot of balcony increases\n",
        "# house price."
      ],
      "execution_count": null,
      "outputs": []
    },
    {
      "cell_type": "code",
      "metadata": {
        "colab": {
          "base_uri": "https://localhost:8080/",
          "height": 308
        },
        "id": "l6f5p390s0R8",
        "outputId": "f625a8eb-6a09-4154-d22e-9c4a9af09e6f"
      },
      "source": [
        "sns.scatterplot(data = df, x = \"sqft_basement\", y = \"price\")"
      ],
      "execution_count": null,
      "outputs": [
        {
          "output_type": "execute_result",
          "data": {
            "text/plain": [
              "<matplotlib.axes._subplots.AxesSubplot at 0x7f7cde979850>"
            ]
          },
          "metadata": {},
          "execution_count": 65
        },
        {
          "output_type": "display_data",
          "data": {
            "image/png": "[encoded data removed]",
            "text/plain": [
              "<Figure size 432x288 with 1 Axes>"
            ]
          },
          "metadata": {
            "needs_background": "light"
          }
        }
      ]
    },
    {
      "cell_type": "code",
      "metadata": {
        "id": "Ik6xgFrhta6L"
      },
      "source": [
        "# Square foot of basement increases house price\n",
        "# However, there are some houses with no basement\n",
        "# Which have higher house prices. Which is normal"
      ],
      "execution_count": null,
      "outputs": []
    },
    {
      "cell_type": "code",
      "metadata": {
        "colab": {
          "base_uri": "https://localhost:8080/",
          "height": 308
        },
        "id": "wlZCYMQstljP",
        "outputId": "152b76d0-7d78-42d0-fb03-4e14553d4afb"
      },
      "source": [
        "sns.scatterplot(data = df, x = \"yr_built\", y = \"price\")"
      ],
      "execution_count": null,
      "outputs": [
        {
          "output_type": "execute_result",
          "data": {
            "text/plain": [
              "<matplotlib.axes._subplots.AxesSubplot at 0x7f7cde8f0650>"
            ]
          },
          "metadata": {},
          "execution_count": 67
        },
        {
          "output_type": "display_data",
          "data": {
            "image/png": "[encoded data removed]",
            "text/plain": [
              "<Figure size 432x288 with 1 Axes>"
            ]
          },
          "metadata": {
            "needs_background": "light"
          }
        }
      ]
    },
    {
      "cell_type": "code",
      "metadata": {
        "id": "H_hfEy84ttjt"
      },
      "source": [
        "# It seems houses that are more modern tend\n",
        "# to have higher prices. However, they seem not\n",
        "# to all have high prices. As some still have lower prices."
      ],
      "execution_count": null,
      "outputs": []
    },
    {
      "cell_type": "code",
      "metadata": {
        "colab": {
          "base_uri": "https://localhost:8080/",
          "height": 350
        },
        "id": "Z82S5fxItZj7",
        "outputId": "b2d47567-ab62-4984-9c72-2f0123a47885"
      },
      "source": [
        "sns.heatmap(df.corr())"
      ],
      "execution_count": null,
      "outputs": [
        {
          "output_type": "execute_result",
          "data": {
            "text/plain": [
              "<matplotlib.axes._subplots.AxesSubplot at 0x7f7cde870dd0>"
            ]
          },
          "metadata": {},
          "execution_count": 69
        },
        {
          "output_type": "display_data",
          "data": {
            "image/png": "[encoded data removed]",
            "text/plain": [
              "<Figure size 432x288 with 2 Axes>"
            ]
          },
          "metadata": {
            "needs_background": "light"
          }
        }
      ]
    },
    {
      "cell_type": "code",
      "metadata": {
        "colab": {
          "base_uri": "https://localhost:8080/",
          "height": 571
        },
        "id": "fGbgtbm-wT7i",
        "outputId": "0c2dd5f0-8220-4e5b-f35f-849f45cb875e"
      },
      "source": [
        "df.corr()"
      ],
      "execution_count": null,
      "outputs": [
        {
          "output_type": "execute_result",
          "data": {
            "text/html": [
              "<div>\n",
              "<style scoped>\n",
              "    .dataframe tbody tr th:only-of-type {\n",
              "        vertical-align: middle;\n",
              "    }\n",
              "\n",
              "    .dataframe tbody tr th {\n",
              "        vertical-align: top;\n",
              "    }\n",
              "\n",
              "    .dataframe thead th {\n",
              "        text-align: right;\n",
              "    }\n",
              "</style>\n",
              "<table border=\"1\" class=\"dataframe\">\n",
              "  <thead>\n",
              "    <tr style=\"text-align: right;\">\n",
              "      <th></th>\n",
              "      <th>price</th>\n",
              "      <th>bedrooms</th>\n",
              "      <th>bathrooms</th>\n",
              "      <th>sqft_living</th>\n",
              "      <th>sqft_lot</th>\n",
              "      <th>floors</th>\n",
              "      <th>waterfront</th>\n",
              "      <th>view</th>\n",
              "      <th>condition</th>\n",
              "      <th>grade</th>\n",
              "      <th>sqft_above</th>\n",
              "      <th>sqft_basement</th>\n",
              "      <th>yr_built</th>\n",
              "      <th>yr_renovated</th>\n",
              "      <th>sqft_living15</th>\n",
              "      <th>sqft_lot15</th>\n",
              "    </tr>\n",
              "  </thead>\n",
              "  <tbody>\n",
              "    <tr>\n",
              "      <th>price</th>\n",
              "      <td>1.000000</td>\n",
              "      <td>0.315442</td>\n",
              "      <td>0.518932</td>\n",
              "      <td>0.702057</td>\n",
              "      <td>0.089661</td>\n",
              "      <td>0.256810</td>\n",
              "      <td>0.266333</td>\n",
              "      <td>0.397471</td>\n",
              "      <td>0.036371</td>\n",
              "      <td>0.667491</td>\n",
              "      <td>0.605593</td>\n",
              "      <td>0.323844</td>\n",
              "      <td>0.053992</td>\n",
              "      <td>0.126506</td>\n",
              "      <td>0.585408</td>\n",
              "      <td>0.082461</td>\n",
              "    </tr>\n",
              "    <tr>\n",
              "      <th>bedrooms</th>\n",
              "      <td>0.315442</td>\n",
              "      <td>1.000000</td>\n",
              "      <td>0.501653</td>\n",
              "      <td>0.591471</td>\n",
              "      <td>0.032803</td>\n",
              "      <td>0.181105</td>\n",
              "      <td>-0.006612</td>\n",
              "      <td>0.081829</td>\n",
              "      <td>0.025426</td>\n",
              "      <td>0.366539</td>\n",
              "      <td>0.490619</td>\n",
              "      <td>0.309473</td>\n",
              "      <td>0.159268</td>\n",
              "      <td>0.019468</td>\n",
              "      <td>0.402621</td>\n",
              "      <td>0.030391</td>\n",
              "    </tr>\n",
              "    <tr>\n",
              "      <th>bathrooms</th>\n",
              "      <td>0.518932</td>\n",
              "      <td>0.501653</td>\n",
              "      <td>1.000000</td>\n",
              "      <td>0.701792</td>\n",
              "      <td>0.089985</td>\n",
              "      <td>0.366677</td>\n",
              "      <td>0.065427</td>\n",
              "      <td>0.202719</td>\n",
              "      <td>-0.066689</td>\n",
              "      <td>0.591298</td>\n",
              "      <td>0.599380</td>\n",
              "      <td>0.334917</td>\n",
              "      <td>0.377476</td>\n",
              "      <td>0.069373</td>\n",
              "      <td>0.497505</td>\n",
              "      <td>0.086950</td>\n",
              "    </tr>\n",
              "    <tr>\n",
              "      <th>sqft_living</th>\n",
              "      <td>0.702057</td>\n",
              "      <td>0.591471</td>\n",
              "      <td>0.701792</td>\n",
              "      <td>1.000000</td>\n",
              "      <td>0.172826</td>\n",
              "      <td>0.353941</td>\n",
              "      <td>0.103819</td>\n",
              "      <td>0.284636</td>\n",
              "      <td>-0.058720</td>\n",
              "      <td>0.762716</td>\n",
              "      <td>0.876601</td>\n",
              "      <td>0.435076</td>\n",
              "      <td>0.318087</td>\n",
              "      <td>0.055310</td>\n",
              "      <td>0.756418</td>\n",
              "      <td>0.183280</td>\n",
              "    </tr>\n",
              "    <tr>\n",
              "      <th>sqft_lot</th>\n",
              "      <td>0.089661</td>\n",
              "      <td>0.032803</td>\n",
              "      <td>0.089985</td>\n",
              "      <td>0.172826</td>\n",
              "      <td>1.000000</td>\n",
              "      <td>-0.005181</td>\n",
              "      <td>0.021600</td>\n",
              "      <td>0.074750</td>\n",
              "      <td>-0.008944</td>\n",
              "      <td>0.113640</td>\n",
              "      <td>0.183521</td>\n",
              "      <td>0.015278</td>\n",
              "      <td>0.053098</td>\n",
              "      <td>0.007675</td>\n",
              "      <td>0.144614</td>\n",
              "      <td>0.718555</td>\n",
              "    </tr>\n",
              "    <tr>\n",
              "      <th>floors</th>\n",
              "      <td>0.256810</td>\n",
              "      <td>0.181105</td>\n",
              "      <td>0.366677</td>\n",
              "      <td>0.353941</td>\n",
              "      <td>-0.005181</td>\n",
              "      <td>1.000000</td>\n",
              "      <td>0.023708</td>\n",
              "      <td>0.029312</td>\n",
              "      <td>-0.263717</td>\n",
              "      <td>0.458140</td>\n",
              "      <td>0.523856</td>\n",
              "      <td>-0.245653</td>\n",
              "      <td>0.489330</td>\n",
              "      <td>0.006147</td>\n",
              "      <td>0.279832</td>\n",
              "      <td>-0.011263</td>\n",
              "    </tr>\n",
              "    <tr>\n",
              "      <th>waterfront</th>\n",
              "      <td>0.266333</td>\n",
              "      <td>-0.006612</td>\n",
              "      <td>0.065427</td>\n",
              "      <td>0.103819</td>\n",
              "      <td>0.021600</td>\n",
              "      <td>0.023708</td>\n",
              "      <td>1.000000</td>\n",
              "      <td>0.401992</td>\n",
              "      <td>0.016665</td>\n",
              "      <td>0.082783</td>\n",
              "      <td>0.072078</td>\n",
              "      <td>0.080588</td>\n",
              "      <td>-0.026163</td>\n",
              "      <td>0.092950</td>\n",
              "      <td>0.086467</td>\n",
              "      <td>0.030700</td>\n",
              "    </tr>\n",
              "    <tr>\n",
              "      <th>view</th>\n",
              "      <td>0.397471</td>\n",
              "      <td>0.081829</td>\n",
              "      <td>0.202719</td>\n",
              "      <td>0.284636</td>\n",
              "      <td>0.074750</td>\n",
              "      <td>0.029312</td>\n",
              "      <td>0.401992</td>\n",
              "      <td>1.000000</td>\n",
              "      <td>0.045877</td>\n",
              "      <td>0.251372</td>\n",
              "      <td>0.167650</td>\n",
              "      <td>0.277009</td>\n",
              "      <td>-0.053242</td>\n",
              "      <td>0.103206</td>\n",
              "      <td>0.280397</td>\n",
              "      <td>0.072573</td>\n",
              "    </tr>\n",
              "    <tr>\n",
              "      <th>condition</th>\n",
              "      <td>0.036371</td>\n",
              "      <td>0.025426</td>\n",
              "      <td>-0.066689</td>\n",
              "      <td>-0.058720</td>\n",
              "      <td>-0.008944</td>\n",
              "      <td>-0.263717</td>\n",
              "      <td>0.016665</td>\n",
              "      <td>0.045877</td>\n",
              "      <td>1.000000</td>\n",
              "      <td>-0.144612</td>\n",
              "      <td>-0.158135</td>\n",
              "      <td>0.174023</td>\n",
              "      <td>-0.361310</td>\n",
              "      <td>-0.060847</td>\n",
              "      <td>-0.092760</td>\n",
              "      <td>-0.003391</td>\n",
              "    </tr>\n",
              "    <tr>\n",
              "      <th>grade</th>\n",
              "      <td>0.667491</td>\n",
              "      <td>0.366539</td>\n",
              "      <td>0.591298</td>\n",
              "      <td>0.762716</td>\n",
              "      <td>0.113640</td>\n",
              "      <td>0.458140</td>\n",
              "      <td>0.082783</td>\n",
              "      <td>0.251372</td>\n",
              "      <td>-0.144612</td>\n",
              "      <td>1.000000</td>\n",
              "      <td>0.755915</td>\n",
              "      <td>0.168463</td>\n",
              "      <td>0.446955</td>\n",
              "      <td>0.014367</td>\n",
              "      <td>0.713204</td>\n",
              "      <td>0.119259</td>\n",
              "    </tr>\n",
              "    <tr>\n",
              "      <th>sqft_above</th>\n",
              "      <td>0.605593</td>\n",
              "      <td>0.490619</td>\n",
              "      <td>0.599380</td>\n",
              "      <td>0.876601</td>\n",
              "      <td>0.183521</td>\n",
              "      <td>0.523856</td>\n",
              "      <td>0.072078</td>\n",
              "      <td>0.167650</td>\n",
              "      <td>-0.158135</td>\n",
              "      <td>0.755915</td>\n",
              "      <td>1.000000</td>\n",
              "      <td>-0.051897</td>\n",
              "      <td>0.423903</td>\n",
              "      <td>0.023225</td>\n",
              "      <td>0.731859</td>\n",
              "      <td>0.194051</td>\n",
              "    </tr>\n",
              "    <tr>\n",
              "      <th>sqft_basement</th>\n",
              "      <td>0.323844</td>\n",
              "      <td>0.309473</td>\n",
              "      <td>0.334917</td>\n",
              "      <td>0.435076</td>\n",
              "      <td>0.015278</td>\n",
              "      <td>-0.245653</td>\n",
              "      <td>0.080588</td>\n",
              "      <td>0.277009</td>\n",
              "      <td>0.174023</td>\n",
              "      <td>0.168463</td>\n",
              "      <td>-0.051897</td>\n",
              "      <td>1.000000</td>\n",
              "      <td>-0.133040</td>\n",
              "      <td>0.071327</td>\n",
              "      <td>0.200402</td>\n",
              "      <td>0.017269</td>\n",
              "    </tr>\n",
              "    <tr>\n",
              "      <th>yr_built</th>\n",
              "      <td>0.053992</td>\n",
              "      <td>0.159268</td>\n",
              "      <td>0.377476</td>\n",
              "      <td>0.318087</td>\n",
              "      <td>0.053098</td>\n",
              "      <td>0.489330</td>\n",
              "      <td>-0.026163</td>\n",
              "      <td>-0.053242</td>\n",
              "      <td>-0.361310</td>\n",
              "      <td>0.446955</td>\n",
              "      <td>0.423903</td>\n",
              "      <td>-0.133040</td>\n",
              "      <td>1.000000</td>\n",
              "      <td>-0.224740</td>\n",
              "      <td>0.326273</td>\n",
              "      <td>0.070989</td>\n",
              "    </tr>\n",
              "    <tr>\n",
              "      <th>yr_renovated</th>\n",
              "      <td>0.126506</td>\n",
              "      <td>0.019468</td>\n",
              "      <td>0.069373</td>\n",
              "      <td>0.055310</td>\n",
              "      <td>0.007675</td>\n",
              "      <td>0.006147</td>\n",
              "      <td>0.092950</td>\n",
              "      <td>0.103206</td>\n",
              "      <td>-0.060847</td>\n",
              "      <td>0.014367</td>\n",
              "      <td>0.023225</td>\n",
              "      <td>0.071327</td>\n",
              "      <td>-0.224740</td>\n",
              "      <td>1.000000</td>\n",
              "      <td>-0.002851</td>\n",
              "      <td>0.007834</td>\n",
              "    </tr>\n",
              "    <tr>\n",
              "      <th>sqft_living15</th>\n",
              "      <td>0.585408</td>\n",
              "      <td>0.402621</td>\n",
              "      <td>0.497505</td>\n",
              "      <td>0.756418</td>\n",
              "      <td>0.144614</td>\n",
              "      <td>0.279832</td>\n",
              "      <td>0.086467</td>\n",
              "      <td>0.280397</td>\n",
              "      <td>-0.092760</td>\n",
              "      <td>0.713204</td>\n",
              "      <td>0.731859</td>\n",
              "      <td>0.200402</td>\n",
              "      <td>0.326273</td>\n",
              "      <td>-0.002851</td>\n",
              "      <td>1.000000</td>\n",
              "      <td>0.183185</td>\n",
              "    </tr>\n",
              "    <tr>\n",
              "      <th>sqft_lot15</th>\n",
              "      <td>0.082461</td>\n",
              "      <td>0.030391</td>\n",
              "      <td>0.086950</td>\n",
              "      <td>0.183280</td>\n",
              "      <td>0.718555</td>\n",
              "      <td>-0.011263</td>\n",
              "      <td>0.030700</td>\n",
              "      <td>0.072573</td>\n",
              "      <td>-0.003391</td>\n",
              "      <td>0.119259</td>\n",
              "      <td>0.194051</td>\n",
              "      <td>0.017269</td>\n",
              "      <td>0.070989</td>\n",
              "      <td>0.007834</td>\n",
              "      <td>0.183185</td>\n",
              "      <td>1.000000</td>\n",
              "    </tr>\n",
              "  </tbody>\n",
              "</table>\n",
              "</div>"
            ],
            "text/plain": [
              "                  price  bedrooms  ...  sqft_living15  sqft_lot15\n",
              "price          1.000000  0.315442  ...       0.585408    0.082461\n",
              "bedrooms       0.315442  1.000000  ...       0.402621    0.030391\n",
              "bathrooms      0.518932  0.501653  ...       0.497505    0.086950\n",
              "sqft_living    0.702057  0.591471  ...       0.756418    0.183280\n",
              "sqft_lot       0.089661  0.032803  ...       0.144614    0.718555\n",
              "floors         0.256810  0.181105  ...       0.279832   -0.011263\n",
              "waterfront     0.266333 -0.006612  ...       0.086467    0.030700\n",
              "view           0.397471  0.081829  ...       0.280397    0.072573\n",
              "condition      0.036371  0.025426  ...      -0.092760   -0.003391\n",
              "grade          0.667491  0.366539  ...       0.713204    0.119259\n",
              "sqft_above     0.605593  0.490619  ...       0.731859    0.194051\n",
              "sqft_basement  0.323844  0.309473  ...       0.200402    0.017269\n",
              "yr_built       0.053992  0.159268  ...       0.326273    0.070989\n",
              "yr_renovated   0.126506  0.019468  ...      -0.002851    0.007834\n",
              "sqft_living15  0.585408  0.402621  ...       1.000000    0.183185\n",
              "sqft_lot15     0.082461  0.030391  ...       0.183185    1.000000\n",
              "\n",
              "[16 rows x 16 columns]"
            ]
          },
          "metadata": {},
          "execution_count": 70
        }
      ]
    },
    {
      "cell_type": "code",
      "metadata": {
        "colab": {
          "base_uri": "https://localhost:8080/"
        },
        "id": "mLkEysVWPOfb",
        "outputId": "23981304-9578-40b5-f4f2-37489cc5d9ad"
      },
      "source": [
        "df.corr()[\"price\"].sort_values(ascending = False)"
      ],
      "execution_count": null,
      "outputs": [
        {
          "output_type": "execute_result",
          "data": {
            "text/plain": [
              "price            1.000000\n",
              "sqft_living      0.702057\n",
              "grade            0.667491\n",
              "sqft_above       0.605593\n",
              "sqft_living15    0.585408\n",
              "bathrooms        0.518932\n",
              "view             0.397471\n",
              "sqft_basement    0.323844\n",
              "bedrooms         0.315442\n",
              "waterfront       0.266333\n",
              "floors           0.256810\n",
              "yr_renovated     0.126506\n",
              "sqft_lot         0.089661\n",
              "sqft_lot15       0.082461\n",
              "yr_built         0.053992\n",
              "condition        0.036371\n",
              "Name: price, dtype: float64"
            ]
          },
          "metadata": {},
          "execution_count": 71
        }
      ]
    },
    {
      "cell_type": "code",
      "metadata": {
        "id": "I9BboBn0Pf0u"
      },
      "source": [
        "# Most correlated values are:\n",
        "# sqft_living, grade, sqft_above, sqft_living15,\n",
        "# bathrooms, view, sqft_basement, and bedrooms"
      ],
      "execution_count": null,
      "outputs": []
    },
    {
      "cell_type": "markdown",
      "metadata": {
        "id": "J_PvlS6AMbKI"
      },
      "source": [
        "### Multivariate analysis"
      ]
    },
    {
      "cell_type": "code",
      "metadata": {
        "id": "jXFI1l84MaYq"
      },
      "source": [
        "from sklearn.decomposition import PCA"
      ],
      "execution_count": 158,
      "outputs": []
    },
    {
      "cell_type": "markdown",
      "metadata": {
        "id": "mq51zxcMsErK"
      },
      "source": [
        "Selecting X"
      ]
    },
    {
      "cell_type": "code",
      "metadata": {
        "id": "xJKb2191sFf1"
      },
      "source": [
        "X = df.drop([\"price\", \"yr_renovated\"], axis = 1)"
      ],
      "execution_count": 155,
      "outputs": []
    },
    {
      "cell_type": "markdown",
      "metadata": {
        "id": "uQfel0_5rzLV"
      },
      "source": [
        "Scaling the data"
      ]
    },
    {
      "cell_type": "code",
      "metadata": {
        "id": "U1HxIqC9r1uJ"
      },
      "source": [
        "standardScaler = StandardScaler()\n",
        "standardScaler.fit(X)\n",
        "X_scaled = standardScaler.transform(X)"
      ],
      "execution_count": 154,
      "outputs": []
    },
    {
      "cell_type": "markdown",
      "metadata": {
        "id": "LxyRpKRgsRDs"
      },
      "source": [
        "Performing PCA"
      ]
    },
    {
      "cell_type": "code",
      "metadata": {
        "colab": {
          "base_uri": "https://localhost:8080/"
        },
        "id": "b5fgG9GDr8xz",
        "outputId": "44f7b9d5-73ff-474c-ea8b-d4489974e320"
      },
      "source": [
        "pca = PCA(n_components=5)\n",
        "pca.fit(X)\n",
        "pca.components_"
      ],
      "execution_count": 159,
      "outputs": [
        {
          "output_type": "execute_result",
          "data": {
            "text/plain": [
              "array([[ 6.65335566e-07,  1.53331950e-06,  3.67151815e-03,\n",
              "         8.69621073e-01, -8.31527692e-08,  4.73936842e-08,\n",
              "         1.29237953e-06, -1.10177876e-07,  3.08117435e-06,\n",
              "         3.51197544e-03,  1.59542710e-04,  3.87500472e-05,\n",
              "         2.41921745e-03,  4.93687650e-01],\n",
              "       [-1.73158932e-07, -6.07451033e-07, -2.66164307e-03,\n",
              "         4.93712633e-01,  3.01901858e-07, -8.76313496e-08,\n",
              "        -5.29097248e-07, -2.32838758e-07, -2.12129069e-06,\n",
              "        -2.50733223e-03, -1.54310841e-04, -6.22285622e-05,\n",
              "        -3.37139272e-03, -8.69610873e-01],\n",
              "       [ 3.92795920e-04,  3.86992960e-04,  6.74519861e-01,\n",
              "        -2.52974144e-03,  1.76513036e-04,  6.18687797e-06,\n",
              "         1.50808589e-04, -5.12390824e-05,  7.16230830e-04,\n",
              "         5.85350453e-01,  8.91694076e-02,  8.31678872e-03,\n",
              "         4.40808776e-01, -6.91387762e-03],\n",
              "       [ 2.80579073e-04,  2.29119999e-04,  3.20280512e-01,\n",
              "         2.39194032e-04, -3.84759532e-04,  9.55187807e-06,\n",
              "         3.20849903e-04,  2.57036896e-04, -8.93309244e-05,\n",
              "        -4.90222776e-01,  8.10503288e-01, -1.33345859e-02,\n",
              "        -2.81554152e-03,  4.37005086e-04],\n",
              "       [ 3.17238429e-04,  2.71968498e-04,  3.30284356e-01,\n",
              "        -7.53801769e-04,  1.92547163e-04, -1.45821451e-06,\n",
              "        -1.99890194e-04,  1.96919889e-05, -1.72397760e-04,\n",
              "         2.89083970e-01,  4.12003865e-02, -8.48542567e-04,\n",
              "        -8.97575746e-01,  1.20017554e-03]])"
            ]
          },
          "metadata": {},
          "execution_count": 159
        }
      ]
    },
    {
      "cell_type": "markdown",
      "metadata": {
        "id": "hRtJrKecubW7"
      },
      "source": [
        "Analyzing"
      ]
    },
    {
      "cell_type": "code",
      "metadata": {
        "colab": {
          "base_uri": "https://localhost:8080/"
        },
        "id": "wEUoXrrptRmn",
        "outputId": "1ff19764-91ef-4af3-d41c-cd21d61039fe"
      },
      "source": [
        "pca.explained_variance_ratio_"
      ],
      "execution_count": 161,
      "outputs": [
        {
          "output_type": "execute_result",
          "data": {
            "text/plain": [
              "array([8.83776297e-01, 1.15363201e-01, 6.84002665e-04, 1.12553370e-04,\n",
              "       6.36638389e-05])"
            ]
          },
          "metadata": {},
          "execution_count": 161
        }
      ]
    },
    {
      "cell_type": "code",
      "metadata": {
        "colab": {
          "base_uri": "https://localhost:8080/"
        },
        "id": "gRBdY9D7tnyn",
        "outputId": "182bcf5b-7dd1-4765-fe7b-e6cafe83aabf"
      },
      "source": [
        "sum(pca.explained_variance_ratio_)"
      ],
      "execution_count": 162,
      "outputs": [
        {
          "output_type": "execute_result",
          "data": {
            "text/plain": [
              "0.9999997179198331"
            ]
          },
          "metadata": {},
          "execution_count": 162
        }
      ]
    },
    {
      "cell_type": "code",
      "metadata": {
        "id": "55oTjiTZtZi_"
      },
      "source": [
        "# This means we can simplify the dataset into\n",
        "# 5 components. While we can do this. I believe it is better\n",
        "# to use the dataset as it is. As opposed to transforming it,\n",
        "# as we would have to save the PCA. For us to transform any \n",
        "# new data that we use on the models."
      ],
      "execution_count": null,
      "outputs": []
    },
    {
      "cell_type": "markdown",
      "metadata": {
        "id": "0rNYDxCnx8en"
      },
      "source": [
        "## 6. Implementing the solution"
      ]
    },
    {
      "cell_type": "markdown",
      "metadata": {
        "id": "8d8gps9GIai5"
      },
      "source": [
        "#### Multicollinearity check"
      ]
    },
    {
      "cell_type": "code",
      "metadata": {
        "colab": {
          "base_uri": "https://localhost:8080/",
          "height": 540
        },
        "id": "FdgRAdTEIhR7",
        "outputId": "562df39a-7dd1-45f3-d20d-ef051ead5e74"
      },
      "source": [
        "correlations_independent = (df.drop(\"price\", axis = 1)).corr()\n",
        "collinearity_df = pd.DataFrame(np.linalg.inv(correlations_independent.values), index = correlations_independent.index, columns=correlations_independent.columns)\n",
        "collinearity_df[(collinearity_df > 8)]"
      ],
      "execution_count": null,
      "outputs": [
        {
          "output_type": "execute_result",
          "data": {
            "text/html": [
              "<div>\n",
              "<style scoped>\n",
              "    .dataframe tbody tr th:only-of-type {\n",
              "        vertical-align: middle;\n",
              "    }\n",
              "\n",
              "    .dataframe tbody tr th {\n",
              "        vertical-align: top;\n",
              "    }\n",
              "\n",
              "    .dataframe thead th {\n",
              "        text-align: right;\n",
              "    }\n",
              "</style>\n",
              "<table border=\"1\" class=\"dataframe\">\n",
              "  <thead>\n",
              "    <tr style=\"text-align: right;\">\n",
              "      <th></th>\n",
              "      <th>bedrooms</th>\n",
              "      <th>bathrooms</th>\n",
              "      <th>sqft_living</th>\n",
              "      <th>sqft_lot</th>\n",
              "      <th>floors</th>\n",
              "      <th>waterfront</th>\n",
              "      <th>view</th>\n",
              "      <th>condition</th>\n",
              "      <th>grade</th>\n",
              "      <th>sqft_above</th>\n",
              "      <th>sqft_basement</th>\n",
              "      <th>yr_built</th>\n",
              "      <th>yr_renovated</th>\n",
              "      <th>sqft_living15</th>\n",
              "      <th>sqft_lot15</th>\n",
              "    </tr>\n",
              "  </thead>\n",
              "  <tbody>\n",
              "    <tr>\n",
              "      <th>bedrooms</th>\n",
              "      <td>NaN</td>\n",
              "      <td>NaN</td>\n",
              "      <td>NaN</td>\n",
              "      <td>NaN</td>\n",
              "      <td>NaN</td>\n",
              "      <td>NaN</td>\n",
              "      <td>NaN</td>\n",
              "      <td>NaN</td>\n",
              "      <td>NaN</td>\n",
              "      <td>NaN</td>\n",
              "      <td>NaN</td>\n",
              "      <td>NaN</td>\n",
              "      <td>NaN</td>\n",
              "      <td>NaN</td>\n",
              "      <td>NaN</td>\n",
              "    </tr>\n",
              "    <tr>\n",
              "      <th>bathrooms</th>\n",
              "      <td>NaN</td>\n",
              "      <td>NaN</td>\n",
              "      <td>NaN</td>\n",
              "      <td>NaN</td>\n",
              "      <td>NaN</td>\n",
              "      <td>NaN</td>\n",
              "      <td>NaN</td>\n",
              "      <td>NaN</td>\n",
              "      <td>NaN</td>\n",
              "      <td>NaN</td>\n",
              "      <td>NaN</td>\n",
              "      <td>NaN</td>\n",
              "      <td>NaN</td>\n",
              "      <td>NaN</td>\n",
              "      <td>NaN</td>\n",
              "    </tr>\n",
              "    <tr>\n",
              "      <th>sqft_living</th>\n",
              "      <td>NaN</td>\n",
              "      <td>NaN</td>\n",
              "      <td>NaN</td>\n",
              "      <td>NaN</td>\n",
              "      <td>NaN</td>\n",
              "      <td>NaN</td>\n",
              "      <td>NaN</td>\n",
              "      <td>NaN</td>\n",
              "      <td>NaN</td>\n",
              "      <td>4.326920e+13</td>\n",
              "      <td>2.312533e+13</td>\n",
              "      <td>NaN</td>\n",
              "      <td>NaN</td>\n",
              "      <td>NaN</td>\n",
              "      <td>NaN</td>\n",
              "    </tr>\n",
              "    <tr>\n",
              "      <th>sqft_lot</th>\n",
              "      <td>NaN</td>\n",
              "      <td>NaN</td>\n",
              "      <td>NaN</td>\n",
              "      <td>NaN</td>\n",
              "      <td>NaN</td>\n",
              "      <td>NaN</td>\n",
              "      <td>NaN</td>\n",
              "      <td>NaN</td>\n",
              "      <td>NaN</td>\n",
              "      <td>NaN</td>\n",
              "      <td>NaN</td>\n",
              "      <td>NaN</td>\n",
              "      <td>NaN</td>\n",
              "      <td>NaN</td>\n",
              "      <td>NaN</td>\n",
              "    </tr>\n",
              "    <tr>\n",
              "      <th>floors</th>\n",
              "      <td>NaN</td>\n",
              "      <td>NaN</td>\n",
              "      <td>NaN</td>\n",
              "      <td>NaN</td>\n",
              "      <td>NaN</td>\n",
              "      <td>NaN</td>\n",
              "      <td>NaN</td>\n",
              "      <td>NaN</td>\n",
              "      <td>NaN</td>\n",
              "      <td>NaN</td>\n",
              "      <td>NaN</td>\n",
              "      <td>NaN</td>\n",
              "      <td>NaN</td>\n",
              "      <td>NaN</td>\n",
              "      <td>NaN</td>\n",
              "    </tr>\n",
              "    <tr>\n",
              "      <th>waterfront</th>\n",
              "      <td>NaN</td>\n",
              "      <td>NaN</td>\n",
              "      <td>NaN</td>\n",
              "      <td>NaN</td>\n",
              "      <td>NaN</td>\n",
              "      <td>NaN</td>\n",
              "      <td>NaN</td>\n",
              "      <td>NaN</td>\n",
              "      <td>NaN</td>\n",
              "      <td>NaN</td>\n",
              "      <td>NaN</td>\n",
              "      <td>NaN</td>\n",
              "      <td>NaN</td>\n",
              "      <td>NaN</td>\n",
              "      <td>NaN</td>\n",
              "    </tr>\n",
              "    <tr>\n",
              "      <th>view</th>\n",
              "      <td>NaN</td>\n",
              "      <td>NaN</td>\n",
              "      <td>NaN</td>\n",
              "      <td>NaN</td>\n",
              "      <td>NaN</td>\n",
              "      <td>NaN</td>\n",
              "      <td>NaN</td>\n",
              "      <td>NaN</td>\n",
              "      <td>NaN</td>\n",
              "      <td>NaN</td>\n",
              "      <td>NaN</td>\n",
              "      <td>NaN</td>\n",
              "      <td>NaN</td>\n",
              "      <td>NaN</td>\n",
              "      <td>NaN</td>\n",
              "    </tr>\n",
              "    <tr>\n",
              "      <th>condition</th>\n",
              "      <td>NaN</td>\n",
              "      <td>NaN</td>\n",
              "      <td>NaN</td>\n",
              "      <td>NaN</td>\n",
              "      <td>NaN</td>\n",
              "      <td>NaN</td>\n",
              "      <td>NaN</td>\n",
              "      <td>NaN</td>\n",
              "      <td>NaN</td>\n",
              "      <td>NaN</td>\n",
              "      <td>NaN</td>\n",
              "      <td>NaN</td>\n",
              "      <td>NaN</td>\n",
              "      <td>NaN</td>\n",
              "      <td>NaN</td>\n",
              "    </tr>\n",
              "    <tr>\n",
              "      <th>grade</th>\n",
              "      <td>NaN</td>\n",
              "      <td>NaN</td>\n",
              "      <td>NaN</td>\n",
              "      <td>NaN</td>\n",
              "      <td>NaN</td>\n",
              "      <td>NaN</td>\n",
              "      <td>NaN</td>\n",
              "      <td>NaN</td>\n",
              "      <td>NaN</td>\n",
              "      <td>NaN</td>\n",
              "      <td>NaN</td>\n",
              "      <td>NaN</td>\n",
              "      <td>NaN</td>\n",
              "      <td>NaN</td>\n",
              "      <td>NaN</td>\n",
              "    </tr>\n",
              "    <tr>\n",
              "      <th>sqft_above</th>\n",
              "      <td>NaN</td>\n",
              "      <td>NaN</td>\n",
              "      <td>4.326920e+13</td>\n",
              "      <td>NaN</td>\n",
              "      <td>NaN</td>\n",
              "      <td>NaN</td>\n",
              "      <td>NaN</td>\n",
              "      <td>NaN</td>\n",
              "      <td>NaN</td>\n",
              "      <td>NaN</td>\n",
              "      <td>NaN</td>\n",
              "      <td>NaN</td>\n",
              "      <td>NaN</td>\n",
              "      <td>NaN</td>\n",
              "      <td>NaN</td>\n",
              "    </tr>\n",
              "    <tr>\n",
              "      <th>sqft_basement</th>\n",
              "      <td>NaN</td>\n",
              "      <td>NaN</td>\n",
              "      <td>2.312533e+13</td>\n",
              "      <td>NaN</td>\n",
              "      <td>NaN</td>\n",
              "      <td>NaN</td>\n",
              "      <td>NaN</td>\n",
              "      <td>NaN</td>\n",
              "      <td>NaN</td>\n",
              "      <td>NaN</td>\n",
              "      <td>NaN</td>\n",
              "      <td>NaN</td>\n",
              "      <td>NaN</td>\n",
              "      <td>NaN</td>\n",
              "      <td>NaN</td>\n",
              "    </tr>\n",
              "    <tr>\n",
              "      <th>yr_built</th>\n",
              "      <td>NaN</td>\n",
              "      <td>NaN</td>\n",
              "      <td>NaN</td>\n",
              "      <td>NaN</td>\n",
              "      <td>NaN</td>\n",
              "      <td>NaN</td>\n",
              "      <td>NaN</td>\n",
              "      <td>NaN</td>\n",
              "      <td>NaN</td>\n",
              "      <td>NaN</td>\n",
              "      <td>NaN</td>\n",
              "      <td>NaN</td>\n",
              "      <td>NaN</td>\n",
              "      <td>NaN</td>\n",
              "      <td>NaN</td>\n",
              "    </tr>\n",
              "    <tr>\n",
              "      <th>yr_renovated</th>\n",
              "      <td>NaN</td>\n",
              "      <td>NaN</td>\n",
              "      <td>NaN</td>\n",
              "      <td>NaN</td>\n",
              "      <td>NaN</td>\n",
              "      <td>NaN</td>\n",
              "      <td>NaN</td>\n",
              "      <td>NaN</td>\n",
              "      <td>NaN</td>\n",
              "      <td>NaN</td>\n",
              "      <td>NaN</td>\n",
              "      <td>NaN</td>\n",
              "      <td>NaN</td>\n",
              "      <td>NaN</td>\n",
              "      <td>NaN</td>\n",
              "    </tr>\n",
              "    <tr>\n",
              "      <th>sqft_living15</th>\n",
              "      <td>NaN</td>\n",
              "      <td>NaN</td>\n",
              "      <td>NaN</td>\n",
              "      <td>NaN</td>\n",
              "      <td>NaN</td>\n",
              "      <td>NaN</td>\n",
              "      <td>NaN</td>\n",
              "      <td>NaN</td>\n",
              "      <td>NaN</td>\n",
              "      <td>NaN</td>\n",
              "      <td>NaN</td>\n",
              "      <td>NaN</td>\n",
              "      <td>NaN</td>\n",
              "      <td>NaN</td>\n",
              "      <td>NaN</td>\n",
              "    </tr>\n",
              "    <tr>\n",
              "      <th>sqft_lot15</th>\n",
              "      <td>NaN</td>\n",
              "      <td>NaN</td>\n",
              "      <td>NaN</td>\n",
              "      <td>NaN</td>\n",
              "      <td>NaN</td>\n",
              "      <td>NaN</td>\n",
              "      <td>NaN</td>\n",
              "      <td>NaN</td>\n",
              "      <td>NaN</td>\n",
              "      <td>NaN</td>\n",
              "      <td>NaN</td>\n",
              "      <td>NaN</td>\n",
              "      <td>NaN</td>\n",
              "      <td>NaN</td>\n",
              "      <td>NaN</td>\n",
              "    </tr>\n",
              "  </tbody>\n",
              "</table>\n",
              "</div>"
            ],
            "text/plain": [
              "               bedrooms  bathrooms  ...  sqft_living15  sqft_lot15\n",
              "bedrooms            NaN        NaN  ...            NaN         NaN\n",
              "bathrooms           NaN        NaN  ...            NaN         NaN\n",
              "sqft_living         NaN        NaN  ...            NaN         NaN\n",
              "sqft_lot            NaN        NaN  ...            NaN         NaN\n",
              "floors              NaN        NaN  ...            NaN         NaN\n",
              "waterfront          NaN        NaN  ...            NaN         NaN\n",
              "view                NaN        NaN  ...            NaN         NaN\n",
              "condition           NaN        NaN  ...            NaN         NaN\n",
              "grade               NaN        NaN  ...            NaN         NaN\n",
              "sqft_above          NaN        NaN  ...            NaN         NaN\n",
              "sqft_basement       NaN        NaN  ...            NaN         NaN\n",
              "yr_built            NaN        NaN  ...            NaN         NaN\n",
              "yr_renovated        NaN        NaN  ...            NaN         NaN\n",
              "sqft_living15       NaN        NaN  ...            NaN         NaN\n",
              "sqft_lot15          NaN        NaN  ...            NaN         NaN\n",
              "\n",
              "[15 rows x 15 columns]"
            ]
          },
          "metadata": {},
          "execution_count": 73
        }
      ]
    },
    {
      "cell_type": "code",
      "metadata": {
        "id": "6xUYcMMoKDQI"
      },
      "source": [
        "# Sqft_above & Sqft_basement seem to have high VIF\n",
        "# values with sqft_living area. Because they are in the same\n",
        "# area. However it may mess up some of our models. So it will be\n",
        "# left out in some models, that are affected by multicollinearity."
      ],
      "execution_count": null,
      "outputs": []
    },
    {
      "cell_type": "markdown",
      "metadata": {
        "id": "_azgM5EJvGdD"
      },
      "source": [
        "Importing the libraries"
      ]
    },
    {
      "cell_type": "code",
      "metadata": {
        "id": "2hO1A-U9xYPB"
      },
      "source": [
        "# Train test split libraries\n",
        "from sklearn.model_selection import train_test_split\n",
        "# Preprocessing libraries\n",
        "from sklearn.preprocessing import PolynomialFeatures\n",
        "from sklearn.preprocessing import StandardScaler\n",
        "# Model libraries\n",
        "from sklearn.linear_model import LinearRegression\n",
        "from sklearn.linear_model import Ridge\n",
        "from sklearn.linear_model import LassoCV\n",
        "from sklearn.model_selection import GridSearchCV\n",
        "from sklearn.linear_model import ElasticNetCV\n",
        "import statsmodels.formula.api as sm\n",
        "# Statistics libraries\n",
        "import scipy as sp\n",
        "from sklearn import metrics"
      ],
      "execution_count": 142,
      "outputs": []
    },
    {
      "cell_type": "markdown",
      "metadata": {
        "id": "FjI2vI0SwJXx"
      },
      "source": [
        "X & Y for models"
      ]
    },
    {
      "cell_type": "code",
      "metadata": {
        "id": "rmiBn5S8wDLf"
      },
      "source": [
        "X = df.drop([\"price\", \"yr_renovated\"], axis = 1)\n",
        "y = df[\"price\"]"
      ],
      "execution_count": null,
      "outputs": []
    },
    {
      "cell_type": "code",
      "metadata": {
        "id": "iuiFyi7SCuWb"
      },
      "source": [
        "# Variables to store predictions and y_trues\n",
        "model_predictions = []\n",
        "y_trues = []"
      ],
      "execution_count": null,
      "outputs": []
    },
    {
      "cell_type": "markdown",
      "metadata": {
        "id": "JGdT5Sbevviq"
      },
      "source": [
        "### Polynomial regression"
      ]
    },
    {
      "cell_type": "markdown",
      "metadata": {
        "id": "prc3dL4cxEZe"
      },
      "source": [
        "Choosing a degree value"
      ]
    },
    {
      "cell_type": "code",
      "metadata": {
        "id": "j8yHZYRqxIdh"
      },
      "source": [
        "train_RMSES = []\n",
        "test_RMSES = []\n",
        "\n",
        "for num in range(1, 4):\n",
        "  poly_feat = PolynomialFeatures(degree = num, include_bias = False) \n",
        "  poly_feat.fit(X)\n",
        "  X_poly = poly_feat.transform(X)\n",
        "\n",
        "  X_train, X_test, y_train, y_test = train_test_split(X_poly, y, test_size=0.2, random_state=101)\n",
        "\n",
        "  pol_reg = LinearRegression()\n",
        "  pol_reg.fit(X_train, y_train)\n",
        "  predictions_train = pol_reg.predict(X_train)\n",
        "  predictions_test = pol_reg.predict(X_test)\n",
        "\n",
        "  train_rmse = np.sqrt(metrics.mean_squared_error(y_train, predictions_train))\n",
        "  test_rmse = np.sqrt(metrics.mean_squared_error(y_test, predictions_test))\n",
        "  \n",
        "  train_RMSES.append(train_rmse)\n",
        "  test_RMSES.append(test_rmse)"
      ],
      "execution_count": null,
      "outputs": []
    },
    {
      "cell_type": "code",
      "metadata": {
        "colab": {
          "base_uri": "https://localhost:8080/",
          "height": 295
        },
        "id": "3Y8o2X3ayHYD",
        "outputId": "dc286eed-0d97-4f71-8e46-6e5bee15345d"
      },
      "source": [
        "plt.plot(range(1, 4), train_RMSES[:3], color='blue', label = \"Train RMSEs\")\n",
        "plt.plot(range(1, 4), test_RMSES[:3], color='orange', label = \"Test RMSEs\")\n",
        "plt.title(\"Polynomial RMSE\")\n",
        "plt.ylabel(\"RMSE\")\n",
        "plt.xlabel(\"Degree of Poly\")\n",
        "plt.legend()\n",
        "plt.show()"
      ],
      "execution_count": null,
      "outputs": [
        {
          "output_type": "display_data",
          "data": {
            "image/png": "[encoded data removed]",
            "text/plain": [
              "<Figure size 432x288 with 1 Axes>"
            ]
          },
          "metadata": {
            "needs_background": "light"
          }
        }
      ]
    },
    {
      "cell_type": "code",
      "metadata": {
        "colab": {
          "base_uri": "https://localhost:8080/"
        },
        "id": "i3495qVGx6WN",
        "outputId": "db75a9d8-9c8e-4614-8297-486f57abefc6"
      },
      "source": [
        "train_RMSES"
      ],
      "execution_count": null,
      "outputs": [
        {
          "output_type": "execute_result",
          "data": {
            "text/plain": [
              "[214798.18986335857, 183988.83054581273, 275349.43971243314]"
            ]
          },
          "metadata": {},
          "execution_count": 80
        }
      ]
    },
    {
      "cell_type": "code",
      "metadata": {
        "colab": {
          "base_uri": "https://localhost:8080/"
        },
        "id": "UDqv8okyygfG",
        "outputId": "454c48b7-8ed9-47d3-98bb-e3a803443cd8"
      },
      "source": [
        "test_RMSES"
      ],
      "execution_count": null,
      "outputs": [
        {
          "output_type": "execute_result",
          "data": {
            "text/plain": [
              "[218040.73704333362, 190103.93988980248, 865675.4156812129]"
            ]
          },
          "metadata": {},
          "execution_count": 81
        }
      ]
    },
    {
      "cell_type": "code",
      "metadata": {
        "id": "W36rH4lW1dOa"
      },
      "source": [
        "# It seems that both RMSEs are going down\n",
        "# This means that polynomial degree of 2, is the best choice.\n",
        "# As we do not want to make it complex. Also it seems\n",
        "# to go up at degree 3.\n",
        "# So that is the most optimal choice"
      ],
      "execution_count": null,
      "outputs": []
    },
    {
      "cell_type": "markdown",
      "metadata": {
        "id": "drCISuWRy2Id"
      },
      "source": [
        "Modelling"
      ]
    },
    {
      "cell_type": "code",
      "metadata": {
        "id": "GnUIY0KbyrhO"
      },
      "source": [
        "# Creating the poly features\n",
        "poly_feat = PolynomialFeatures(degree = 2, include_bias = False) \n",
        "poly_feat.fit(X)\n",
        "X_poly = poly_feat.transform(X)"
      ],
      "execution_count": null,
      "outputs": []
    },
    {
      "cell_type": "code",
      "metadata": {
        "id": "0hGxP8ESyyjI"
      },
      "source": [
        "# Train test split with poly features\n",
        "X_train, X_test, y_train, y_test = train_test_split(X_poly, y, test_size=0.25, random_state=101)\n",
        "y_trues.append(y_test)"
      ],
      "execution_count": null,
      "outputs": []
    },
    {
      "cell_type": "code",
      "metadata": {
        "colab": {
          "base_uri": "https://localhost:8080/"
        },
        "id": "L4qdU9HuzHcg",
        "outputId": "ae41ce62-cfb1-4e52-bf36-62f17dd04f14"
      },
      "source": [
        "# Creating the model\n",
        "pol_reg = LinearRegression()\n",
        "pol_reg.fit(X_train, y_train)"
      ],
      "execution_count": null,
      "outputs": [
        {
          "output_type": "execute_result",
          "data": {
            "text/plain": [
              "LinearRegression()"
            ]
          },
          "metadata": {},
          "execution_count": 85
        }
      ]
    },
    {
      "cell_type": "markdown",
      "metadata": {
        "id": "hhyz1T09zI78"
      },
      "source": [
        "Evaluation"
      ]
    },
    {
      "cell_type": "code",
      "metadata": {
        "id": "-PqyCXVLzJ_R"
      },
      "source": [
        "# Doing predictions\n",
        "predictions = pol_reg.predict(X_test)\n",
        "model_predictions.append(predictions)"
      ],
      "execution_count": null,
      "outputs": []
    },
    {
      "cell_type": "code",
      "metadata": {
        "colab": {
          "base_uri": "https://localhost:8080/"
        },
        "id": "z9-FvATvzYh9",
        "outputId": "89183217-81cc-4917-a08a-c7c664c59a80"
      },
      "source": [
        "# Doing the metrics for evaluation\n",
        "print('Mean Absolute Error:', metrics.mean_absolute_error(y_test, predictions))  \n",
        "print('Mean Squared Error:', metrics.mean_squared_error(y_test, predictions))  \n",
        "print('Root Mean Squared Error:', np.sqrt(metrics.mean_squared_error(y_test, predictions)))"
      ],
      "execution_count": null,
      "outputs": [
        {
          "output_type": "stream",
          "name": "stdout",
          "text": [
            "Mean Absolute Error: 126649.78978831155\n",
            "Mean Squared Error: 36730531849.87888\n",
            "Root Mean Squared Error: 191652.1115194896\n"
          ]
        }
      ]
    },
    {
      "cell_type": "code",
      "metadata": {
        "id": "MiGQfdbm1_Ki"
      },
      "source": [
        "# The average error is 126,000.\n",
        "# Which is not bad considering that we had houses over\n",
        "# 100,000. This means it was still not performing badly\n",
        "# on them."
      ],
      "execution_count": null,
      "outputs": []
    },
    {
      "cell_type": "markdown",
      "metadata": {
        "id": "SYTm3IoP0Elp"
      },
      "source": [
        "### Quantile regression"
      ]
    },
    {
      "cell_type": "markdown",
      "metadata": {
        "id": "DpV4FtkC24iG"
      },
      "source": [
        "Test train split"
      ]
    },
    {
      "cell_type": "code",
      "metadata": {
        "id": "J9meWh3n3RSh"
      },
      "source": [
        "train, test = train_test_split(df, test_size=0.25, random_state=101)"
      ],
      "execution_count": null,
      "outputs": []
    },
    {
      "cell_type": "code",
      "metadata": {
        "id": "xrKGS3yR4Dnc"
      },
      "source": [
        "X_test = test.drop([\"price\", \"yr_renovated\"], axis = 1)\n",
        "y_test = test[\"price\"]\n",
        "\n",
        "for i in range(3):\n",
        "  y_trues.append(y_test)"
      ],
      "execution_count": null,
      "outputs": []
    },
    {
      "cell_type": "markdown",
      "metadata": {
        "id": "Jcc_X_ou20is"
      },
      "source": [
        "Modelling"
      ]
    },
    {
      "cell_type": "code",
      "metadata": {
        "id": "xZSq0MtqLwnd"
      },
      "source": [
        "# This model is affected by multicollinearity,\n",
        "# so we will have to drop the sqft_above and sqft_basement\n",
        "# as they are highly correlated to the sqft_living variable"
      ],
      "execution_count": null,
      "outputs": []
    },
    {
      "cell_type": "code",
      "metadata": {
        "id": "fJj9jw_VQDZk"
      },
      "source": [
        "# I will also only be using 7 features.\n",
        "# as it takes a long time to create the model"
      ],
      "execution_count": null,
      "outputs": []
    },
    {
      "cell_type": "code",
      "metadata": {
        "id": "iU5V6rsa2-Py"
      },
      "source": [
        "models = []\n",
        "\n",
        "for quantile in [0.2, 0.5, 0.8]:\n",
        "  olsmod = sm.quantreg('price ~ sqft_living + grade + sqft_above + sqft_living15 + bathrooms + view + bedrooms', data = train)\n",
        "  model = olsmod.fit(q = quantile, max_iter = 100000000)\n",
        "  models.append(model)"
      ],
      "execution_count": null,
      "outputs": []
    },
    {
      "cell_type": "markdown",
      "metadata": {
        "id": "lxjoKvZtMN3C"
      },
      "source": [
        "Coefficients at different quartiles"
      ]
    },
    {
      "cell_type": "code",
      "metadata": {
        "colab": {
          "base_uri": "https://localhost:8080/"
        },
        "id": "HX1karCPNGEZ",
        "outputId": "8d6291a6-637d-439e-848f-f2b909b0915e"
      },
      "source": [
        "# Quartile - 20\n",
        "models[0].params"
      ],
      "execution_count": null,
      "outputs": [
        {
          "output_type": "execute_result",
          "data": {
            "text/plain": [
              "Intercept       -351789.847607\n",
              "sqft_living         108.536170\n",
              "grade             73321.696599\n",
              "sqft_above          -38.328589\n",
              "sqft_living15        30.980694\n",
              "bathrooms          9449.496466\n",
              "view              41190.908705\n",
              "bedrooms         -24657.842749\n",
              "dtype: float64"
            ]
          },
          "metadata": {},
          "execution_count": 94
        }
      ]
    },
    {
      "cell_type": "code",
      "metadata": {
        "id": "nyDKA0l2eaor"
      },
      "source": [
        "# It seems for the 20th quartile.\n",
        "# The most important independent variables\n",
        "# were: grade, view, and no. of bathrooms"
      ],
      "execution_count": null,
      "outputs": []
    },
    {
      "cell_type": "code",
      "metadata": {
        "colab": {
          "base_uri": "https://localhost:8080/"
        },
        "id": "8i1ZD5l0NLZt",
        "outputId": "d7d40360-94cd-45da-efe1-2752d006a2c7"
      },
      "source": [
        "# Quartile - 50\n",
        "models[1].params"
      ],
      "execution_count": null,
      "outputs": [
        {
          "output_type": "execute_result",
          "data": {
            "text/plain": [
              "Intercept       -373581.639199\n",
              "sqft_living         160.905188\n",
              "grade             87990.309664\n",
              "sqft_above          -54.572209\n",
              "sqft_living15        25.287165\n",
              "bathrooms         -2502.177017\n",
              "view              68680.166820\n",
              "bedrooms         -27092.101379\n",
              "dtype: float64"
            ]
          },
          "metadata": {},
          "execution_count": 96
        }
      ]
    },
    {
      "cell_type": "code",
      "metadata": {
        "id": "5JkLo72ferXn"
      },
      "source": [
        "# For the 50th quartile.\n",
        "# the most important independent variables were:\n",
        "# grade, and view. Whereas bathrooms had a strong negative\n",
        "# coefficient. "
      ],
      "execution_count": null,
      "outputs": []
    },
    {
      "cell_type": "code",
      "metadata": {
        "colab": {
          "base_uri": "https://localhost:8080/"
        },
        "id": "Vi-GLo-SNNI9",
        "outputId": "be50d60e-5365-4f99-cfe1-bf640e78a840"
      },
      "source": [
        "# Quartile - 80\n",
        "models[2].params"
      ],
      "execution_count": null,
      "outputs": [
        {
          "output_type": "execute_result",
          "data": {
            "text/plain": [
              "Intercept       -352518.002147\n",
              "sqft_living         242.347467\n",
              "grade             93202.721108\n",
              "sqft_above          -83.718358\n",
              "sqft_living15        24.457154\n",
              "bathrooms         -5829.390299\n",
              "view             121126.607005\n",
              "bedrooms         -32113.537990\n",
              "dtype: float64"
            ]
          },
          "metadata": {},
          "execution_count": 98
        }
      ]
    },
    {
      "cell_type": "code",
      "metadata": {
        "id": "rty9fa5je9yL"
      },
      "source": [
        "# For the 80th quartile. The most important\n",
        "# independent variables were: View, and then grade.\n",
        "# Which means they switched. However, there was a strong\n",
        "# negative coefficient on bedrooms."
      ],
      "execution_count": null,
      "outputs": []
    },
    {
      "cell_type": "markdown",
      "metadata": {
        "id": "5KUmmGvmNeFu"
      },
      "source": [
        "Evaluation"
      ]
    },
    {
      "cell_type": "code",
      "metadata": {
        "id": "IQQKNHp6NfCq"
      },
      "source": [
        "RMSEs = []\n",
        "\n",
        "for model in models:\n",
        "  predictions = model.predict(X_test)\n",
        "  model_predictions.append(predictions)\n",
        "  RMSEs.append(np.sqrt(metrics.mean_squared_error(y_test, predictions)))"
      ],
      "execution_count": null,
      "outputs": []
    },
    {
      "cell_type": "code",
      "metadata": {
        "colab": {
          "base_uri": "https://localhost:8080/"
        },
        "id": "gJGLKB_DOhYU",
        "outputId": "6b2bcaa3-a427-425a-a6b5-dd2e13cb20f3"
      },
      "source": [
        "# 20th percentile error metric\n",
        "print('Root Mean Squared Error: ' + str(RMSEs[0]))"
      ],
      "execution_count": null,
      "outputs": [
        {
          "output_type": "stream",
          "name": "stdout",
          "text": [
            "Root Mean Squared Error: 311963.902295579\n"
          ]
        }
      ]
    },
    {
      "cell_type": "code",
      "metadata": {
        "id": "HEYC4t1XfYba"
      },
      "source": [
        "# This is higher than the polynomial root mean\n",
        "# squared error."
      ],
      "execution_count": null,
      "outputs": []
    },
    {
      "cell_type": "code",
      "metadata": {
        "colab": {
          "base_uri": "https://localhost:8080/"
        },
        "id": "4_FDyuoQO2Df",
        "outputId": "0d14e7fd-28f0-4ed1-fc36-718d25d356ff"
      },
      "source": [
        "# 50th percentile error metric\n",
        "print('Root Mean Squared Error: ' + str(RMSEs[1]))"
      ],
      "execution_count": null,
      "outputs": [
        {
          "output_type": "stream",
          "name": "stdout",
          "text": [
            "Root Mean Squared Error: 249922.9363832033\n"
          ]
        }
      ]
    },
    {
      "cell_type": "code",
      "metadata": {
        "id": "6KXnkRQBfcr7"
      },
      "source": [
        "# This is still a higher error,\n",
        "# than the polynomial regression error."
      ],
      "execution_count": null,
      "outputs": []
    },
    {
      "cell_type": "code",
      "metadata": {
        "colab": {
          "base_uri": "https://localhost:8080/"
        },
        "id": "Jv7TttojO4T-",
        "outputId": "27aa03eb-f4ca-413b-9ca6-a7287d385d05"
      },
      "source": [
        "# 80th percentile error metric\n",
        "print('Root Mean Squared Error: ' + str(RMSEs[2]))"
      ],
      "execution_count": null,
      "outputs": [
        {
          "output_type": "stream",
          "name": "stdout",
          "text": [
            "Root Mean Squared Error: 276522.51499778416\n"
          ]
        }
      ]
    },
    {
      "cell_type": "code",
      "metadata": {
        "id": "LjChI-c_fkGF"
      },
      "source": [
        "# This is the second largest error.\n",
        "# which means that fitting to a higher quartile.\n",
        "# Can give you better results when making a model."
      ],
      "execution_count": null,
      "outputs": []
    },
    {
      "cell_type": "markdown",
      "metadata": {
        "id": "9sL_6VBXSG2e"
      },
      "source": [
        "### Ridge regression"
      ]
    },
    {
      "cell_type": "markdown",
      "metadata": {
        "id": "q1Isb_NNgLQs"
      },
      "source": [
        "Scaling the data"
      ]
    },
    {
      "cell_type": "code",
      "metadata": {
        "id": "EycVjs3FO9Ve"
      },
      "source": [
        "scaler = StandardScaler()\n",
        "x_scaled = scaler.fit_transform(X)"
      ],
      "execution_count": null,
      "outputs": []
    },
    {
      "cell_type": "markdown",
      "metadata": {
        "id": "H5Tu8i61gVsV"
      },
      "source": [
        "Modelling"
      ]
    },
    {
      "cell_type": "code",
      "metadata": {
        "colab": {
          "base_uri": "https://localhost:8080/"
        },
        "id": "hvJks363gU8M",
        "outputId": "3a06f3fa-a7df-4d4c-c7a2-80932d188501"
      },
      "source": [
        "ridge = Ridge()\n",
        "cv_search = GridSearchCV(estimator=ridge,param_grid={'alpha':np.logspace(-5,2,8)},scoring='neg_mean_squared_error',n_jobs=1,refit=True,cv=8)\n",
        "cv_search.fit(x_scaled, y)"
      ],
      "execution_count": null,
      "outputs": [
        {
          "output_type": "execute_result",
          "data": {
            "text/plain": [
              "GridSearchCV(cv=8, estimator=Ridge(), n_jobs=1,\n",
              "             param_grid={'alpha': array([1.e-05, 1.e-04, 1.e-03, 1.e-02, 1.e-01, 1.e+00, 1.e+01, 1.e+02])},\n",
              "             scoring='neg_mean_squared_error')"
            ]
          },
          "metadata": {},
          "execution_count": 108
        }
      ]
    },
    {
      "cell_type": "markdown",
      "metadata": {
        "id": "hJCdimn-hsmY"
      },
      "source": [
        "Model parameters"
      ]
    },
    {
      "cell_type": "code",
      "metadata": {
        "colab": {
          "base_uri": "https://localhost:8080/"
        },
        "id": "LXaQe0HpgdEX",
        "outputId": "34ba5c6e-3bb4-4f32-e677-df3e8b2127dd"
      },
      "source": [
        "cv_search.best_params_"
      ],
      "execution_count": null,
      "outputs": [
        {
          "output_type": "execute_result",
          "data": {
            "text/plain": [
              "{'alpha': 100.0}"
            ]
          },
          "metadata": {},
          "execution_count": 109
        }
      ]
    },
    {
      "cell_type": "markdown",
      "metadata": {
        "id": "mNbTKl41hwnz"
      },
      "source": [
        "Evaluation"
      ]
    },
    {
      "cell_type": "code",
      "metadata": {
        "colab": {
          "base_uri": "https://localhost:8080/"
        },
        "id": "Mb205TcjhGUA",
        "outputId": "35da4bff-9294-4e00-8b22-fde8f673dda6"
      },
      "source": [
        "print('Root Mean Squared Error: ' + str(np.sqrt(abs(cv_search.best_score_))))"
      ],
      "execution_count": null,
      "outputs": [
        {
          "output_type": "stream",
          "name": "stdout",
          "text": [
            "Root Mean Squared Error: 216947.51417149417\n"
          ]
        }
      ]
    },
    {
      "cell_type": "code",
      "metadata": {
        "id": "kKiXg5FjCUZM"
      },
      "source": [
        "# Re-evaluation\n",
        "X_train, X_test, y_train, y_test = train_test_split(x_scaled, y, test_size=0.3, random_state=101)\n",
        "y_trues.append(y_test)"
      ],
      "execution_count": null,
      "outputs": []
    },
    {
      "cell_type": "code",
      "metadata": {
        "colab": {
          "base_uri": "https://localhost:8080/"
        },
        "id": "bq-JqNvsCdsE",
        "outputId": "73a7480e-daf7-4478-fb8d-1075eddaf4ed"
      },
      "source": [
        "predictions = cv_search.predict(X_test)\n",
        "model_predictions.append(predictions)\n",
        "print('Root Mean Squared Error:', np.sqrt(metrics.mean_squared_error(y_test, predictions)))"
      ],
      "execution_count": null,
      "outputs": [
        {
          "output_type": "stream",
          "name": "stdout",
          "text": [
            "Root Mean Squared Error: 216668.8408977115\n"
          ]
        }
      ]
    },
    {
      "cell_type": "code",
      "metadata": {
        "id": "ij-a26C6hbiK"
      },
      "source": [
        "# This is not a bad error score.\n",
        "# As it is very close to the polynomial root\n",
        "# mean squared error, of 191,000.\n",
        "# Also we are using ridge regression to make\n",
        "# it simpler, so there is no issue."
      ],
      "execution_count": null,
      "outputs": []
    },
    {
      "cell_type": "markdown",
      "metadata": {
        "id": "h3lqZBlRh2DZ"
      },
      "source": [
        "### Lasso regression"
      ]
    },
    {
      "cell_type": "markdown",
      "metadata": {
        "id": "hTDnmXFNh6fJ"
      },
      "source": [
        "Scaling the data"
      ]
    },
    {
      "cell_type": "code",
      "metadata": {
        "id": "8fCwD43whp3r"
      },
      "source": [
        "scaler = StandardScaler()\n",
        "x_scaled = scaler.fit_transform(X)"
      ],
      "execution_count": null,
      "outputs": []
    },
    {
      "cell_type": "markdown",
      "metadata": {
        "id": "uoUdqJ56kFDY"
      },
      "source": [
        "Training the model"
      ]
    },
    {
      "cell_type": "code",
      "metadata": {
        "colab": {
          "base_uri": "https://localhost:8080/"
        },
        "id": "GyKrKpuHjw69",
        "outputId": "f55fc581-5304-4480-dff3-bc4cc67bc3b3"
      },
      "source": [
        "lasso_cv_model = LassoCV(eps = 0.001, n_alphas = 100, cv = 5)\n",
        "lasso_cv_model.fit(x_scaled, y)"
      ],
      "execution_count": null,
      "outputs": [
        {
          "output_type": "execute_result",
          "data": {
            "text/plain": [
              "LassoCV(cv=5)"
            ]
          },
          "metadata": {},
          "execution_count": 115
        }
      ]
    },
    {
      "cell_type": "markdown",
      "metadata": {
        "id": "KI3XhBnskeDh"
      },
      "source": [
        "Model parameters"
      ]
    },
    {
      "cell_type": "code",
      "metadata": {
        "colab": {
          "base_uri": "https://localhost:8080/"
        },
        "id": "O-q5vyAikWCH",
        "outputId": "335aa001-4d83-4526-b506-f78d6d1b3446"
      },
      "source": [
        "lasso_cv_model.alpha_"
      ],
      "execution_count": null,
      "outputs": [
        {
          "output_type": "execute_result",
          "data": {
            "text/plain": [
              "276.56639711169527"
            ]
          },
          "metadata": {},
          "execution_count": 116
        }
      ]
    },
    {
      "cell_type": "markdown",
      "metadata": {
        "id": "rnKZ8tnqkjaA"
      },
      "source": [
        "Evaluation"
      ]
    },
    {
      "cell_type": "code",
      "metadata": {
        "id": "TiZoEH02k42Q"
      },
      "source": [
        "X_train, X_test, y_train, y_test = train_test_split(x_scaled, y, test_size=0.3, random_state=101)\n",
        "y_trues.append(y_test)"
      ],
      "execution_count": null,
      "outputs": []
    },
    {
      "cell_type": "code",
      "metadata": {
        "colab": {
          "base_uri": "https://localhost:8080/"
        },
        "id": "PujhiIdskfvm",
        "outputId": "1ef8bb75-e5d5-4b71-fe21-100e3dbefaaa"
      },
      "source": [
        "predictions = lasso_cv_model.predict(X_test)\n",
        "model_predictions.append(predictions)\n",
        "print('Root Mean Squared Error:', np.sqrt(metrics.mean_squared_error(y_test, predictions)))"
      ],
      "execution_count": null,
      "outputs": [
        {
          "output_type": "stream",
          "name": "stdout",
          "text": [
            "Root Mean Squared Error: 216678.06967054764\n"
          ]
        }
      ]
    },
    {
      "cell_type": "code",
      "metadata": {
        "id": "RcVyOi5QlGxN"
      },
      "source": [
        "# The root mean squared error is 216,000.\n",
        "# Which is not bas when compared to the polynomial root mean\n",
        "# squared error of 191,000. Which means it is not badly off.\n",
        "# However it is higher than the ridge regression model. But this\n",
        "# is to be expected. As lasso is much more punishing on high coefficients,\n",
        "# than ridge."
      ],
      "execution_count": null,
      "outputs": []
    },
    {
      "cell_type": "markdown",
      "metadata": {
        "id": "i1th2RNJl_7-"
      },
      "source": [
        "### Elastic Net regression"
      ]
    },
    {
      "cell_type": "code",
      "metadata": {
        "colab": {
          "base_uri": "https://localhost:8080/"
        },
        "id": "Vn9EMQfDmh0t",
        "outputId": "723274ef-e2c3-4da3-b545-7598c9f98bd2"
      },
      "source": [
        "X.shape"
      ],
      "execution_count": null,
      "outputs": [
        {
          "output_type": "execute_result",
          "data": {
            "text/plain": [
              "(21609, 14)"
            ]
          },
          "metadata": {},
          "execution_count": 120
        }
      ]
    },
    {
      "cell_type": "markdown",
      "metadata": {
        "id": "f8arEI2nmY8D"
      },
      "source": [
        "Scaling the data"
      ]
    },
    {
      "cell_type": "code",
      "metadata": {
        "id": "5NPOhaEOkpgR"
      },
      "source": [
        "scaler = StandardScaler()\n",
        "x_scaled = scaler.fit_transform(X)"
      ],
      "execution_count": null,
      "outputs": []
    },
    {
      "cell_type": "markdown",
      "metadata": {
        "id": "9s6BTdAlmdPH"
      },
      "source": [
        "Train test split"
      ]
    },
    {
      "cell_type": "code",
      "metadata": {
        "id": "8ozLSKbomcnV"
      },
      "source": [
        "X_train, X_test, y_train, y_test = train_test_split(x_scaled, y, test_size=0.14, random_state=101)\n",
        "y_trues.append(y_test)"
      ],
      "execution_count": null,
      "outputs": []
    },
    {
      "cell_type": "markdown",
      "metadata": {
        "id": "_2NlmZjimr09"
      },
      "source": [
        "Modelling"
      ]
    },
    {
      "cell_type": "code",
      "metadata": {
        "id": "HAQkXoEmmqxY"
      },
      "source": [
        "elastic_model = ElasticNetCV(l1_ratio = [.1, .5, .7, .9, .95, .99, 1], eps = 0.001,\n",
        "                             n_alphas = 100, max_iter = 10000000)"
      ],
      "execution_count": null,
      "outputs": []
    },
    {
      "cell_type": "code",
      "metadata": {
        "colab": {
          "base_uri": "https://localhost:8080/"
        },
        "id": "R1vnrrg_m2gP",
        "outputId": "dd3dc7fd-386b-4b59-b431-836e223bef51"
      },
      "source": [
        "elastic_model.fit(X_train, y_train)"
      ],
      "execution_count": null,
      "outputs": [
        {
          "output_type": "execute_result",
          "data": {
            "text/plain": [
              "ElasticNetCV(l1_ratio=[0.1, 0.5, 0.7, 0.9, 0.95, 0.99, 1], max_iter=10000000)"
            ]
          },
          "metadata": {},
          "execution_count": 124
        }
      ]
    },
    {
      "cell_type": "markdown",
      "metadata": {
        "id": "qM3WlvPKnHS8"
      },
      "source": [
        "Model Coefficients"
      ]
    },
    {
      "cell_type": "code",
      "metadata": {
        "colab": {
          "base_uri": "https://localhost:8080/"
        },
        "id": "OhMFD5CjnEoC",
        "outputId": "50f59e26-7ac5-4ff6-c909-9e61664e66a9"
      },
      "source": [
        "elastic_model.l1_ratio_"
      ],
      "execution_count": null,
      "outputs": [
        {
          "output_type": "execute_result",
          "data": {
            "text/plain": [
              "1.0"
            ]
          },
          "metadata": {},
          "execution_count": 125
        }
      ]
    },
    {
      "cell_type": "code",
      "metadata": {
        "colab": {
          "base_uri": "https://localhost:8080/"
        },
        "id": "ejQAu7fdnMGU",
        "outputId": "a8f8543f-2da6-4a8a-f226-8740859cb6f0"
      },
      "source": [
        "# Ratio of L2 to L1 regularization\n",
        "elastic_model.alpha_"
      ],
      "execution_count": null,
      "outputs": [
        {
          "output_type": "execute_result",
          "data": {
            "text/plain": [
              "511.75642671823607"
            ]
          },
          "metadata": {},
          "execution_count": 126
        }
      ]
    },
    {
      "cell_type": "markdown",
      "metadata": {
        "id": "sekI_NjsnW76"
      },
      "source": [
        "Evaluation"
      ]
    },
    {
      "cell_type": "code",
      "metadata": {
        "id": "Oy1WaKoBnTPa"
      },
      "source": [
        "predictions = elastic_model.predict(X_test)\n",
        "model_predictions.append(predictions)"
      ],
      "execution_count": null,
      "outputs": []
    },
    {
      "cell_type": "code",
      "metadata": {
        "colab": {
          "base_uri": "https://localhost:8080/"
        },
        "id": "EvYl7s_VnbUl",
        "outputId": "42b2dfd3-e4eb-43fe-ab55-3d881d18e176"
      },
      "source": [
        "print('Root Mean Squared Error:', np.sqrt(metrics.mean_squared_error(y_test, predictions)))"
      ],
      "execution_count": null,
      "outputs": [
        {
          "output_type": "stream",
          "name": "stdout",
          "text": [
            "Root Mean Squared Error: 225579.10120065877\n"
          ]
        }
      ]
    },
    {
      "cell_type": "code",
      "metadata": {
        "id": "tTVzvbT8npDu"
      },
      "source": [
        "# It seems that the elastic net, had the worst root \n",
        "# mean squared error. This means it must have simplified \n",
        "# the coefficients. But the addition of L1 & l2 together. \n",
        "# Must have caused it to have a worse root mean squared error."
      ],
      "execution_count": null,
      "outputs": []
    },
    {
      "cell_type": "markdown",
      "metadata": {
        "id": "oFGwtRKdBgWJ"
      },
      "source": [
        "## 7. Challenging the solution"
      ]
    },
    {
      "cell_type": "code",
      "metadata": {
        "id": "tDRfbrNEEZgj"
      },
      "source": [
        "# Calculate residuals\n",
        "residuals = []\n",
        "for i in range(len(model_predictions)):\n",
        "  residuals.append(np.subtract(model_predictions[i], y_trues[i]))"
      ],
      "execution_count": null,
      "outputs": []
    },
    {
      "cell_type": "markdown",
      "metadata": {
        "id": "eCrLBcK9GfeA"
      },
      "source": [
        "### Polynomial regression"
      ]
    },
    {
      "cell_type": "markdown",
      "metadata": {
        "id": "sXHtFlVZp2BE"
      },
      "source": [
        "#### Residual plot"
      ]
    },
    {
      "cell_type": "code",
      "metadata": {
        "colab": {
          "base_uri": "https://localhost:8080/",
          "height": 290
        },
        "id": "WbJBC9vtBm_g",
        "outputId": "eda23abf-d6ae-4f4a-dd2f-3cb6e5a67ac2"
      },
      "source": [
        "plt.scatter(model_predictions[0], residuals[0], color='black')\n",
        "plt.ylabel('residual')\n",
        "plt.xlabel('fitted values')\n",
        "plt.axhline(y= residuals[0].mean(), color='red', linewidth=1)\n",
        "plt.show()"
      ],
      "execution_count": null,
      "outputs": [
        {
          "output_type": "display_data",
          "data": {
            "image/png": "[encoded data removed]",
            "text/plain": [
              "<Figure size 432x288 with 1 Axes>"
            ]
          },
          "metadata": {
            "needs_background": "light"
          }
        }
      ]
    },
    {
      "cell_type": "code",
      "metadata": {
        "id": "PEp36JM-G4FW"
      },
      "source": [
        "# With higher values,\n",
        "# there are more errors which is normal.\n",
        "# As it should be harder to predict the more\n",
        "# expensive houses. With the same variables."
      ],
      "execution_count": null,
      "outputs": []
    },
    {
      "cell_type": "markdown",
      "metadata": {
        "id": "dCIrlHzRqBmv"
      },
      "source": [
        "#### Bartlett's test"
      ]
    },
    {
      "cell_type": "code",
      "metadata": {
        "colab": {
          "base_uri": "https://localhost:8080/"
        },
        "id": "bOZHg5IZlgPg",
        "outputId": "82ada1e5-0345-4bb3-fbe7-7fe053e940b4"
      },
      "source": [
        "test_result, p_value = sp.stats.bartlett(model_predictions[0], residuals[0])\n",
        "    # p_value - chance of the distribution being normal\n",
        "\n",
        "degree_of_freedom = len(model_predictions[0])-1\n",
        "critical_value = sp.stats.chi2.ppf(p_value, degree_of_freedom) # determine critical value of the chi squared distribution\n",
        "\n",
        "if (test_result > critical_value):\n",
        "  print('the variances are unequal, it is not homogeneous')\n",
        "else:\n",
        "  print('the variances are homogeneous!')"
      ],
      "execution_count": 153,
      "outputs": [
        {
          "output_type": "stream",
          "name": "stdout",
          "text": [
            "the variances are homogeneous!\n"
          ]
        }
      ]
    },
    {
      "cell_type": "markdown",
      "metadata": {
        "id": "3pAQYHOCHC9R"
      },
      "source": [
        "### Quantile regression - 20th quartile"
      ]
    },
    {
      "cell_type": "markdown",
      "metadata": {
        "id": "OTAoV1u4p7QO"
      },
      "source": [
        "#### Residual plot"
      ]
    },
    {
      "cell_type": "code",
      "metadata": {
        "colab": {
          "base_uri": "https://localhost:8080/",
          "height": 290
        },
        "id": "j_40mxIMHGB_",
        "outputId": "fc8cfbc2-e346-4a6e-bcfb-cbd019eab809"
      },
      "source": [
        "plt.scatter(model_predictions[1], residuals[1], color='black')\n",
        "plt.ylabel('residual')\n",
        "plt.xlabel('fitted values')\n",
        "plt.axhline(y= residuals[1].mean(), color='red', linewidth=1)\n",
        "plt.show()"
      ],
      "execution_count": null,
      "outputs": [
        {
          "output_type": "display_data",
          "data": {
            "image/png": "[encoded data removed]",
            "text/plain": [
              "<Figure size 432x288 with 1 Axes>"
            ]
          },
          "metadata": {
            "needs_background": "light"
          }
        }
      ]
    },
    {
      "cell_type": "code",
      "metadata": {
        "id": "V9pvyKIeHVwd"
      },
      "source": [
        "# This makes sense, as the cheaper houses.\n",
        "# are predicting with much more accuracy than the more\n",
        "# espensive houses. Then the more expensive houses,\n",
        "# are under-estimated. As the focus was on cheaper homes "
      ],
      "execution_count": null,
      "outputs": []
    },
    {
      "cell_type": "markdown",
      "metadata": {
        "id": "3X8gZEU6qFWe"
      },
      "source": [
        "#### Bartlett's test"
      ]
    },
    {
      "cell_type": "code",
      "metadata": {
        "colab": {
          "base_uri": "https://localhost:8080/"
        },
        "id": "CTNzsnBJoZwN",
        "outputId": "1581b880-0855-4f93-c972-134c0e845614"
      },
      "source": [
        "test_result, p_value = sp.stats.bartlett(model_predictions[1], residuals[1])\n",
        "\n",
        "degree_of_freedom = len(model_predictions[1])-1\n",
        "critical_value = sp.stats.chi2.ppf(p_value, degree_of_freedom) # determine critical value of the chi squared distribution\n",
        "\n",
        "if (test_result > critical_value):\n",
        "  print('the variances are unequal, it is not homogeneous')\n",
        "else:\n",
        "  print('the variances are homogeneous!')"
      ],
      "execution_count": 146,
      "outputs": [
        {
          "output_type": "stream",
          "name": "stdout",
          "text": [
            "the variances are homogeneous!\n"
          ]
        }
      ]
    },
    {
      "cell_type": "markdown",
      "metadata": {
        "id": "aDPSunG4HtdF"
      },
      "source": [
        "### Quantile regression - 50th percentile"
      ]
    },
    {
      "cell_type": "markdown",
      "metadata": {
        "id": "UL-TjKlIp73h"
      },
      "source": [
        "#### Residual plot"
      ]
    },
    {
      "cell_type": "code",
      "metadata": {
        "colab": {
          "base_uri": "https://localhost:8080/",
          "height": 290
        },
        "id": "75gC1SdEHxcv",
        "outputId": "78cc2e48-519b-4b4f-fad3-61378daa93b3"
      },
      "source": [
        "plt.scatter(model_predictions[2], residuals[2], color='black')\n",
        "plt.ylabel('residual')\n",
        "plt.xlabel('fitted values')\n",
        "plt.axhline(y= residuals[2].mean(), color='red', linewidth=1)\n",
        "plt.show()"
      ],
      "execution_count": null,
      "outputs": [
        {
          "output_type": "display_data",
          "data": {
            "image/png": "[encoded data removed]",
            "text/plain": [
              "<Figure size 432x288 with 1 Axes>"
            ]
          },
          "metadata": {
            "needs_background": "light"
          }
        }
      ]
    },
    {
      "cell_type": "code",
      "metadata": {
        "id": "IKfNsYKGH4Jt"
      },
      "source": [
        "# This should be equal to linear regression. With one\n",
        "# polynomial. As linear regression also target the 50th percentile.\n",
        "# However when compared to polynomial regression with 2 degrees.\n",
        "# It under-estimates the more expensive houses. This can be expected\n",
        "# as polynomial regression is more complex. So it may allow better\n",
        "# fitting of those variables."
      ],
      "execution_count": null,
      "outputs": []
    },
    {
      "cell_type": "markdown",
      "metadata": {
        "id": "47nYY2EjqHtg"
      },
      "source": [
        "#### Bartlett's test"
      ]
    },
    {
      "cell_type": "code",
      "metadata": {
        "colab": {
          "base_uri": "https://localhost:8080/"
        },
        "id": "54qPP_xQolfv",
        "outputId": "144a9bfe-4d85-4d54-ac4f-94340ce245f3"
      },
      "source": [
        "test_result, p_value = sp.stats.bartlett(model_predictions[2], residuals[2])\n",
        "\n",
        "degree_of_freedom = len(model_predictions[2])-1\n",
        "critical_value = sp.stats.chi2.ppf(p_value, degree_of_freedom) # determine critical value of the chi squared distribution\n",
        "\n",
        "if (test_result > critical_value):\n",
        "  print('the variances are unequal, it is not homogeneous')\n",
        "else:\n",
        "  print('the variances are homogeneous!')"
      ],
      "execution_count": 147,
      "outputs": [
        {
          "output_type": "stream",
          "name": "stdout",
          "text": [
            "the variances are homogeneous!\n"
          ]
        }
      ]
    },
    {
      "cell_type": "markdown",
      "metadata": {
        "id": "tr2Y84cHitq_"
      },
      "source": [
        "### Quantile regression - 80th percentile"
      ]
    },
    {
      "cell_type": "markdown",
      "metadata": {
        "id": "eRaOc5u_p8gg"
      },
      "source": [
        "#### Residual plot"
      ]
    },
    {
      "cell_type": "code",
      "metadata": {
        "colab": {
          "base_uri": "https://localhost:8080/",
          "height": 290
        },
        "id": "31-6DDCxiqeZ",
        "outputId": "a65f092a-0635-41ad-cda2-1ca906bf2154"
      },
      "source": [
        "plt.scatter(model_predictions[3], residuals[3], color='black')\n",
        "plt.ylabel('residual')\n",
        "plt.xlabel('fitted values')\n",
        "plt.axhline(y= residuals[3].mean(), color='red', linewidth=1)\n",
        "plt.show()"
      ],
      "execution_count": 138,
      "outputs": [
        {
          "output_type": "display_data",
          "data": {
            "image/png": "[encoded data removed]",
            "text/plain": [
              "<Figure size 432x288 with 1 Axes>"
            ]
          },
          "metadata": {
            "needs_background": "light"
          }
        }
      ]
    },
    {
      "cell_type": "code",
      "metadata": {
        "id": "C6bGgewti0Uf"
      },
      "source": [
        "# This one fits the higher values more, than the lower\n",
        "# values. As it targets 80% of the y_value. However, it cannot\n",
        "# all of the more expensive houses. As most houses are still cheap\n",
        "# in that range. Remember all the more expensive houses were seen\n",
        "# as outliers in the boxplot."
      ],
      "execution_count": null,
      "outputs": []
    },
    {
      "cell_type": "markdown",
      "metadata": {
        "id": "ducU7Q17qKV9"
      },
      "source": [
        "#### Bartlett's test"
      ]
    },
    {
      "cell_type": "code",
      "metadata": {
        "colab": {
          "base_uri": "https://localhost:8080/"
        },
        "id": "ROOE8v-9oqWW",
        "outputId": "cb19c825-07a2-4a1c-e51e-96154c1b02df"
      },
      "source": [
        "test_result, p_value = sp.stats.bartlett(model_predictions[3], residuals[3])\n",
        "\n",
        "degree_of_freedom = len(model_predictions[3])-1\n",
        "critical_value = sp.stats.chi2.ppf(p_value, degree_of_freedom) # determine critical value of the chi squared distribution\n",
        "\n",
        "if (test_result > critical_value):\n",
        "  print('the variances are unequal, it is not homogeneous')\n",
        "else:\n",
        "  print('the variances are homogeneous!')"
      ],
      "execution_count": 148,
      "outputs": [
        {
          "output_type": "stream",
          "name": "stdout",
          "text": [
            "the variances are homogeneous!\n"
          ]
        }
      ]
    },
    {
      "cell_type": "markdown",
      "metadata": {
        "id": "YuVzS6aPjXxS"
      },
      "source": [
        "### Ridge regression"
      ]
    },
    {
      "cell_type": "markdown",
      "metadata": {
        "id": "hf9JGOlvp9fs"
      },
      "source": [
        "#### Residual plot"
      ]
    },
    {
      "cell_type": "code",
      "metadata": {
        "colab": {
          "base_uri": "https://localhost:8080/",
          "height": 290
        },
        "id": "9nW3CeIRjZf_",
        "outputId": "1b025266-caae-439f-92b9-97762b01fb41"
      },
      "source": [
        "plt.scatter(model_predictions[4], residuals[4], color='black')\n",
        "plt.ylabel('residual')\n",
        "plt.xlabel('fitted values')\n",
        "plt.axhline(y= residuals[3].mean(), color='red', linewidth=1)\n",
        "plt.show()"
      ],
      "execution_count": 139,
      "outputs": [
        {
          "output_type": "display_data",
          "data": {
            "image/png": "[encoded data removed]",
            "text/plain": [
              "<Figure size 432x288 with 1 Axes>"
            ]
          },
          "metadata": {
            "needs_background": "light"
          }
        }
      ]
    },
    {
      "cell_type": "code",
      "metadata": {
        "id": "BLtxwgBJjejh"
      },
      "source": [
        "# Looks similar too the 50th percentile graph.\n",
        "# However, it will move more towards where there are more\n",
        "# houses. As it is a more relaxed model.\n",
        "# That means it is better at predicting more\n",
        "# similar houses."
      ],
      "execution_count": null,
      "outputs": []
    },
    {
      "cell_type": "markdown",
      "metadata": {
        "id": "ilu_jcqRqLbT"
      },
      "source": [
        "#### Bartlett's test"
      ]
    },
    {
      "cell_type": "code",
      "metadata": {
        "colab": {
          "base_uri": "https://localhost:8080/"
        },
        "id": "IpiWIOowovYh",
        "outputId": "7aaf8bb7-0c65-4b58-dc13-37f8572ad8c8"
      },
      "source": [
        "test_result, p_value = sp.stats.bartlett(model_predictions[4], residuals[4])\n",
        "\n",
        "degree_of_freedom = len(model_predictions[4])-1\n",
        "critical_value = sp.stats.chi2.ppf(p_value, degree_of_freedom) # determine critical value of the chi squared distribution\n",
        "\n",
        "if (test_result > critical_value):\n",
        "  print('the variances are unequal, it is not homogeneous')\n",
        "else:\n",
        "  print('the variances are homogeneous!')"
      ],
      "execution_count": 149,
      "outputs": [
        {
          "output_type": "stream",
          "name": "stdout",
          "text": [
            "the variances are homogeneous!\n"
          ]
        }
      ]
    },
    {
      "cell_type": "markdown",
      "metadata": {
        "id": "iOTIlryqj-74"
      },
      "source": [
        "### Lasso regression"
      ]
    },
    {
      "cell_type": "markdown",
      "metadata": {
        "id": "Uf7nI8Xzp-CV"
      },
      "source": [
        "#### Residual plot"
      ]
    },
    {
      "cell_type": "code",
      "metadata": {
        "colab": {
          "base_uri": "https://localhost:8080/",
          "height": 290
        },
        "id": "noPLm2fKj5AR",
        "outputId": "8b7c3ecc-3a18-4167-f428-8766f6ec6da1"
      },
      "source": [
        "plt.scatter(model_predictions[5], residuals[5], color='black')\n",
        "plt.ylabel('residual')\n",
        "plt.xlabel('fitted values')\n",
        "plt.axhline(y= residuals[5].mean(), color='red', linewidth=1)\n",
        "plt.show()"
      ],
      "execution_count": 140,
      "outputs": [
        {
          "output_type": "display_data",
          "data": {
            "image/png": "[encoded data removed]",
            "text/plain": [
              "<Figure size 432x288 with 1 Axes>"
            ]
          },
          "metadata": {
            "needs_background": "light"
          }
        }
      ]
    },
    {
      "cell_type": "code",
      "metadata": {
        "id": "LYWZNasykdWc"
      },
      "source": [
        "# Lasso regression is much more relaxed.\n",
        "# So it has a higher error rate.\n",
        "# However, it is still good at predicting houses\n",
        "# that are similar. However, you can still see that\n",
        "# it did not predict the houses that were expensive well."
      ],
      "execution_count": null,
      "outputs": []
    },
    {
      "cell_type": "markdown",
      "metadata": {
        "id": "X3Gm_ykBqM7B"
      },
      "source": [
        "#### Bartlett's test"
      ]
    },
    {
      "cell_type": "code",
      "metadata": {
        "colab": {
          "base_uri": "https://localhost:8080/"
        },
        "id": "5TF2dZqXozMW",
        "outputId": "1a2ad31f-c4d9-4156-c2b5-64f027789c04"
      },
      "source": [
        "test_result, p_value = sp.stats.bartlett(model_predictions[5], residuals[5])\n",
        "\n",
        "degree_of_freedom = len(model_predictions[5])-1\n",
        "critical_value = sp.stats.chi2.ppf(p_value, degree_of_freedom) # determine critical value of the chi squared distribution\n",
        "\n",
        "if (test_result > critical_value):\n",
        "  print('the variances are unequal, it is not homogeneous')\n",
        "else:\n",
        "  print('the variances are homogeneous!')"
      ],
      "execution_count": 150,
      "outputs": [
        {
          "output_type": "stream",
          "name": "stdout",
          "text": [
            "the variances are homogeneous!\n"
          ]
        }
      ]
    },
    {
      "cell_type": "markdown",
      "metadata": {
        "id": "M__6dQ8ikxdR"
      },
      "source": [
        "### Elastic Net regression"
      ]
    },
    {
      "cell_type": "markdown",
      "metadata": {
        "id": "rScgzQIWp-rD"
      },
      "source": [
        "#### Residual plot"
      ]
    },
    {
      "cell_type": "code",
      "metadata": {
        "colab": {
          "base_uri": "https://localhost:8080/",
          "height": 290
        },
        "id": "U3oHsc2VkwcC",
        "outputId": "1f1c24b5-586e-4963-b53b-9e3733cc3600"
      },
      "source": [
        "plt.scatter(model_predictions[6], residuals[6], color='black')\n",
        "plt.ylabel('residual')\n",
        "plt.xlabel('fitted values')\n",
        "plt.axhline(y= residuals[6].mean(), color='red', linewidth=1)\n",
        "plt.show()"
      ],
      "execution_count": 141,
      "outputs": [
        {
          "output_type": "display_data",
          "data": {
            "image/png": "[encoded data removed]",
            "text/plain": [
              "<Figure size 432x288 with 1 Axes>"
            ]
          },
          "metadata": {
            "needs_background": "light"
          }
        }
      ]
    },
    {
      "cell_type": "code",
      "metadata": {
        "id": "4W-todP2k7IS"
      },
      "source": [
        "# Elastic net has much errors.\n",
        "# Because while it is trying to predict similar houses,\n",
        "# that are close to each other. It still relaxing several variables.\n",
        "# With the different weights. That's why it might give us a more realistic\n",
        "# model. But it will not be able to give us accurate predictions. Due to it's simplicity."
      ],
      "execution_count": null,
      "outputs": []
    },
    {
      "cell_type": "markdown",
      "metadata": {
        "id": "vMQx0WslqPTf"
      },
      "source": [
        "#### Bartlett's test"
      ]
    },
    {
      "cell_type": "code",
      "metadata": {
        "colab": {
          "base_uri": "https://localhost:8080/"
        },
        "id": "-fyaw8MNo2OH",
        "outputId": "2a1ce12f-34a9-450f-c79f-9288dc9479cd"
      },
      "source": [
        "test_result, p_value = sp.stats.bartlett(model_predictions[6], residuals[6])\n",
        "\n",
        "degree_of_freedom = len(model_predictions[6])-1\n",
        "critical_value = sp.stats.chi2.ppf(p_value, degree_of_freedom) # determine critical value of the chi squared distribution\n",
        "\n",
        "if (test_result > critical_value):\n",
        "  print('the variances are unequal, it is not homogeneous')\n",
        "else:\n",
        "  print('the variances are homogeneous!')"
      ],
      "execution_count": 152,
      "outputs": [
        {
          "output_type": "stream",
          "name": "stdout",
          "text": [
            "the variances are homogeneous!\n"
          ]
        }
      ]
    },
    {
      "cell_type": "markdown",
      "metadata": {
        "id": "7Vd3Yu7CpVce"
      },
      "source": [
        "## Conclusion"
      ]
    },
    {
      "cell_type": "markdown",
      "metadata": {
        "id": "chhOi9NtpaHP"
      },
      "source": [
        "In conclusion I believe that the Hass consulting company. Can use the polynomial regression model. Because it allowed them to gain more accuracy in their house predictions. Also by using this model, they can add more data easily. As it will not try to re-balance the coefficients. Which may make it to not increase in accuracy that much. As oppossed to a polynomial model which will increase in accuracy faster than the Lasso model training on the same data."
      ]
    },
    {
      "cell_type": "markdown",
      "metadata": {
        "id": "Io8hkPNmqgEV"
      },
      "source": [
        "## Recommendation"
      ]
    },
    {
      "cell_type": "markdown",
      "metadata": {
        "id": "qTGfnAzKqnkM"
      },
      "source": [
        "In terms of the coefficients that are most determinant of the house price. The coefficients, are: sqft_living, grade, sqft_above, sqft_living15, and bathrooms. These had a 50% chance of affecting the house price. Based on the correlation matrix. This means that Hass consulting should focus on these areas. When they are trying to sell a house. It may allow them to get better sales. Than when sticking to the base price."
      ]
    },
    {
      "cell_type": "markdown",
      "metadata": {
        "id": "x7IfepQ5ryho"
      },
      "source": [
        "## 9. Follow up questions"
      ]
    },
    {
      "cell_type": "markdown",
      "metadata": {
        "id": "pt5jIoxJmTZT"
      },
      "source": [
        "### a). Did we have the right data?"
      ]
    },
    {
      "cell_type": "markdown",
      "metadata": {
        "id": "rFp252_Vr3N1"
      },
      "source": [
        "Yes we have the right data. As it has the right columns. Additionally,\n",
        "it is very detailed. As it does not have rounded values for the column entries.\n",
        "This means it will give us accurate models."
      ]
    },
    {
      "cell_type": "markdown",
      "metadata": {
        "id": "yToqyIHTmiaV"
      },
      "source": [
        "### b). Do we need other data to answer our question?"
      ]
    },
    {
      "cell_type": "markdown",
      "metadata": {
        "id": "COPjejQpr74t"
      },
      "source": [
        "No, however we might need a column for pricy houses. So that it's easier to determine if a house should have a higher predictive price or not. This would allow the model to be more accurate in more expensive houses. For example, if it was using polynomial regression. It would be able to predict the house price much more easily."
      ]
    },
    {
      "cell_type": "markdown",
      "metadata": {
        "id": "I5qiIbC2mnPE"
      },
      "source": [
        "### c). Did we have the right question?"
      ]
    },
    {
      "cell_type": "markdown",
      "metadata": {
        "id": "v4TVzVMSr9rS"
      },
      "source": [
        "Yes, predicting the house price would the right question. As it would allow us to predict the house prices of several new houses. Using these features. Which is the basis of this dataset."
      ]
    }
  ]
}